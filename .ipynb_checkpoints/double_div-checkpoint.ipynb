{
 "cells": [
  {
   "cell_type": "code",
   "execution_count": 1,
   "metadata": {},
   "outputs": [
    {
     "data": {
      "text/plain": [
       "'OBRUT'"
      ]
     },
     "execution_count": 1,
     "metadata": {},
     "output_type": "execute_result"
    }
   ],
   "source": [
    "def reverse_string3(s):\n",
    "    \"\"\"Return a reversed copy of `s`\"\"\"\n",
    "    chars = list(s)\n",
    "    for i in range(len(s) // 2):\n",
    "        tmp = chars[i]\n",
    "        chars[i] = chars[len(s) - i - 1]\n",
    "        chars[len(s) - i - 1] = tmp\n",
    "    return ''.join(chars)\n",
    "\n",
    "reverse_string3('TURBO')\n",
    "'OBRUT'"
   ]
  },
  {
   "cell_type": "code",
   "execution_count": 2,
   "metadata": {},
   "outputs": [
    {
     "data": {
      "text/plain": [
       "5.0"
      ]
     },
     "execution_count": 2,
     "metadata": {},
     "output_type": "execute_result"
    }
   ],
   "source": [
    "10 / 2"
   ]
  },
  {
   "cell_type": "code",
   "execution_count": 3,
   "metadata": {},
   "outputs": [
    {
     "data": {
      "text/plain": [
       "0"
      ]
     },
     "execution_count": 3,
     "metadata": {},
     "output_type": "execute_result"
    }
   ],
   "source": [
    "10 % 2"
   ]
  },
  {
   "cell_type": "code",
   "execution_count": 4,
   "metadata": {},
   "outputs": [
    {
     "data": {
      "text/plain": [
       "5"
      ]
     },
     "execution_count": 4,
     "metadata": {},
     "output_type": "execute_result"
    }
   ],
   "source": [
    "10 // 2"
   ]
  },
  {
   "cell_type": "code",
   "execution_count": 5,
   "metadata": {},
   "outputs": [
    {
     "data": {
      "text/plain": [
       "5"
      ]
     },
     "execution_count": 5,
     "metadata": {},
     "output_type": "execute_result"
    }
   ],
   "source": [
    "11 // 2"
   ]
  },
  {
   "cell_type": "code",
   "execution_count": 5,
   "metadata": {},
   "outputs": [
    {
     "data": {
      "text/plain": [
       "260"
      ]
     },
     "metadata": {},
     "output_type": "display_data"
    },
    {
     "data": {
      "text/plain": [
       "str"
      ]
     },
     "metadata": {},
     "output_type": "display_data"
    },
    {
     "data": {
      "text/plain": [
       "260"
      ]
     },
     "metadata": {},
     "output_type": "display_data"
    }
   ],
   "source": [
    "s = 'abcdefghijklmnopqrstuvwxyz' * 10\n",
    "display(len(s))\n",
    "display(type(s))\n",
    "display(len(list(s)))"
   ]
  },
  {
   "cell_type": "code",
   "execution_count": 13,
   "metadata": {},
   "outputs": [
    {
     "name": "stdout",
     "output_type": "stream",
     "text": [
      "{\n",
      "          \"hi\": 0,\n",
      "          \"bye\": 1,\n",
      "          \"lie\": 2\n",
      "}\n"
     ]
    },
    {
     "data": {
      "text/plain": [
       "'{\\n    \"hi\": 0,\\n    \"bye\": 1,\\n    \"lie\": 2\\n}'"
      ]
     },
     "metadata": {},
     "output_type": "display_data"
    },
    {
     "data": {
      "text/plain": [
       "\"{'hi': 0, 'bye': 1, 'lie': 2}\""
      ]
     },
     "metadata": {},
     "output_type": "display_data"
    },
    {
     "name": "stdout",
     "output_type": "stream",
     "text": [
      "{'hi': 0, 'bye': 1, 'lie': 2}\n"
     ]
    }
   ],
   "source": [
    "import pprint\n",
    "import json\n",
    "L=['hi','bye','lie']\n",
    "D={f: i for i, f in enumerate(L)}\n",
    "pp = pprint.PrettyPrinter(indent=4,sort_dicts=0)\n",
    "print(json.dumps(D,indent=10))\n",
    "display(json.dumps(D,indent=4))\n",
    "display(pp.pformat(D))\n",
    "pp.pprint(D)"
   ]
  },
  {
   "cell_type": "code",
   "execution_count": null,
   "metadata": {},
   "outputs": [],
   "source": [
    "type(D)"
   ]
  },
  {
   "cell_type": "code",
   "execution_count": 2,
   "metadata": {},
   "outputs": [
    {
     "name": "stdout",
     "output_type": "stream",
     "text": [
      "('[\\n'\n",
      " '  {\\n'\n",
      " '    \"born\": 1815,\\n'\n",
      " '    \"field\": \"math\",\\n'\n",
      " '    \"name\": \"Ada Lovelace\",\\n'\n",
      " '    \"nobel\": false\\n'\n",
      " '  },\\n'\n",
      " '  {\\n'\n",
      " '    \"born\": 1882,\\n'\n",
      " '    \"field\": \"math\",\\n'\n",
      " '    \"name\": \"Emmy Noether\",\\n'\n",
      " '    \"nobel\": false\\n'\n",
      " '  },\\n'\n",
      " '  {\\n'\n",
      " '    \"born\": 1867,\\n'\n",
      " '    \"field\": \"physics\",\\n'\n",
      " '    \"name\": \"Marie Curie\",\\n'\n",
      " '    \"nobel\": true\\n'\n",
      " '  },\\n'\n",
      " '  {\\n'\n",
      " '    \"born\": 1930,\\n'\n",
      " '    \"field\": \"chemistry\",\\n'\n",
      " '    \"name\": \"Tu Youyou\",\\n'\n",
      " '    \"nobel\": true\\n'\n",
      " '  },\\n'\n",
      " '  {\\n'\n",
      " '    \"born\": 1939,\\n'\n",
      " '    \"field\": \"chemistry\",\\n'\n",
      " '    \"name\": \"Ada Yonath\",\\n'\n",
      " '    \"nobel\": true\\n'\n",
      " '  },\\n'\n",
      " '  {\\n'\n",
      " '    \"born\": 1928,\\n'\n",
      " '    \"field\": \"astronomy\",\\n'\n",
      " '    \"name\": \"Vera Rubin\",\\n'\n",
      " '    \"nobel\": false\\n'\n",
      " '  },\\n'\n",
      " '  {\\n'\n",
      " '    \"born\": 1951,\\n'\n",
      " '    \"field\": \"physics\",\\n'\n",
      " '    \"name\": \"Sally Ride\",\\n'\n",
      " '    \"nobel\": false\\n'\n",
      " '  }\\n'\n",
      " ']')\n"
     ]
    }
   ],
   "source": [
    "scientists = [\n",
    "    {'name': 'Ada Lovelace', 'field': 'math', 'born': 1815, 'nobel': False},\n",
    "    {'name': 'Emmy Noether', 'field': 'math', 'born': 1882, 'nobel': False},\n",
    "    {'name': 'Marie Curie', 'field': 'physics', 'born': 1867, 'nobel': True},\n",
    "    {'name': 'Tu Youyou', 'field': 'chemistry', 'born': 1930, 'nobel': True},\n",
    "    {'name': 'Ada Yonath', 'field': 'chemistry', 'born': 1939, 'nobel': True},\n",
    "    {'name': 'Vera Rubin', 'field': 'astronomy', 'born': 1928, 'nobel': False},\n",
    "    {'name': 'Sally Ride', 'field': 'physics', 'born': 1951, 'nobel': False},\n",
    "]\n",
    "pprint.pprint(json.dumps(scientists,indent=2,sort_keys=1))"
   ]
  },
  {
   "cell_type": "code",
   "execution_count": 3,
   "metadata": {},
   "outputs": [
    {
     "name": "stdout",
     "output_type": "stream",
     "text": [
      "[   {'name': 'Ada Lovelace', 'field': 'math', 'born': 1815, 'nobel': False},\n",
      "    {'name': 'Emmy Noether', 'field': 'math', 'born': 1882, 'nobel': False},\n",
      "    {'name': 'Marie Curie', 'field': 'physics', 'born': 1867, 'nobel': True},\n",
      "    {'name': 'Tu Youyou', 'field': 'chemistry', 'born': 1930, 'nobel': True},\n",
      "    {'name': 'Ada Yonath', 'field': 'chemistry', 'born': 1939, 'nobel': True},\n",
      "    {'name': 'Vera Rubin', 'field': 'astronomy', 'born': 1928, 'nobel': False},\n",
      "    {'name': 'Sally Ride', 'field': 'physics', 'born': 1951, 'nobel': False}]\n"
     ]
    }
   ],
   "source": [
    "pp.pprint(scientists)"
   ]
  },
  {
   "cell_type": "code",
   "execution_count": 4,
   "metadata": {},
   "outputs": [
    {
     "name": "stdout",
     "output_type": "stream",
     "text": [
      "3.8.4\n"
     ]
    }
   ],
   "source": [
    "from platform import python_version\n",
    "print(python_version())"
   ]
  }
 ],
 "metadata": {
  "kernelspec": {
   "display_name": "Python 3",
   "language": "python",
   "name": "python3"
  },
  "language_info": {
   "codemirror_mode": {
    "name": "ipython",
    "version": 3
   },
   "file_extension": ".py",
   "mimetype": "text/x-python",
   "name": "python",
   "nbconvert_exporter": "python",
   "pygments_lexer": "ipython3",
   "version": "3.8.4"
  }
 },
 "nbformat": 4,
 "nbformat_minor": 4
}
