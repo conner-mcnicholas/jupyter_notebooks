{
 "cells": [
  {
   "cell_type": "code",
   "execution_count": 1,
   "metadata": {},
   "outputs": [
    {
     "ename": "ImportError",
     "evalue": "No module named 'psycopg2'",
     "output_type": "error",
     "traceback": [
      "\u001b[0;31m---------------------------------------------------------------------------\u001b[0m",
      "\u001b[0;31mImportError\u001b[0m                               Traceback (most recent call last)",
      "\u001b[0;32m<ipython-input-1-c40dfef308e2>\u001b[0m in \u001b[0;36m<module>\u001b[0;34m\u001b[0m\n\u001b[1;32m      1\u001b[0m \u001b[0;32mimport\u001b[0m \u001b[0mpandas\u001b[0m \u001b[0;32mas\u001b[0m \u001b[0mpd\u001b[0m\u001b[0;34m\u001b[0m\u001b[0m\n\u001b[0;32m----> 2\u001b[0;31m \u001b[0;32mimport\u001b[0m \u001b[0mpsycopg2\u001b[0m\u001b[0;34m\u001b[0m\u001b[0m\n\u001b[0m\u001b[1;32m      3\u001b[0m \u001b[0;32mimport\u001b[0m \u001b[0msqlalchemy\u001b[0m\u001b[0;34m\u001b[0m\u001b[0m\n",
      "\u001b[0;31mImportError\u001b[0m: No module named 'psycopg2'"
     ]
    }
   ],
   "source": [
    "import pandas as pd\n",
    "import psycopg2\n",
    "import sqlalchemy\n"
   ]
  },
  {
   "cell_type": "code",
   "execution_count": null,
   "metadata": {},
   "outputs": [],
   "source": [
    "# \n",
    "# sales \n",
    "# products  \n",
    "# +------------------+---------+ +---------------------+---------+ \n",
    "# | product_id | INTEGER |>--------| product_id | INTEGER | \n",
    "# | store_id | INTEGER | +---<| product_class_id | INTEGER | \n",
    "# | customer_id | INTEGER | | | brand_name | VARCHAR | \n",
    "# +---<| promotion_id | INTEGER | | | product_name | VARCHAR | \n",
    "# | | store_sales | DECIMAL | | | is_low_fat_flg | TINYINT | \n",
    "# | | store_cost | DECIMAL | | | is_recyclable_flg | TINYINT | \n",
    "# | | units_sold | DECIMAL | | | gross_weight | DECIMAL | \n",
    "# | | transaction_date | DATE | | | net_weight | DECIMAL | \n",
    "# | +------------------+---------+ | +---------------------+---------+ \n",
    "# | | \n",
    "# | \n",
    "# promotions | \n",
    "# product_classes \n",
    "# | +------------------+---------+ | +---------------------+---------+ \n",
    "# +----| promotion_id | INTEGER | +----| product_class_id | INTEGER | \n",
    "# | promotion_name | VARCHAR | | product_subcategory | VARCHAR | \n",
    "# | media_type | VARCHAR | | product_category | VARCHAR | \n",
    "# | cost | DECIMAL | | product_department | VARCHAR | \n",
    "# | start_date | DATE | | product_family | VARCHAR | \n",
    "# | end_date | DATE | +---------------------+---------+ \n",
    "# +------------------+---------+ \n",
    "# */ \n",
    "# Question 1: \n",
    "# -- What percent of all products in the grocery chain's catalog \n",
    "# -- are both low fat and recyclable? #\n",
    "\n",
    "COUNT(CASE WHEN is_low_fat_flg ='Y' and is_recyclable_flg ='Y' THEN product_id END)*100\n",
    " /COUNT(product_id) total FROM PRODUCTS"
   ]
  },
  {
   "cell_type": "code",
   "execution_count": null,
   "metadata": {},
   "outputs": [],
   "source": [
    "Question 1: What brands have an average price above $3 and contain at least 2 different products? \n",
    "Question 2: To improve sales, the marketing department runs various types of promotions. The marketing manager would like to analyze the effectiveness of these promotion campaigns. In particular, what percent of our sales transactions had a valid promotion applied? \n",
    "Question 3: We want to run a new promotion for our most successful category of products (we call these categories “product classes”). Can you find out what are the top 3 selling product classes by total sales? \n",
    "Question 4: We are considering running a promo across brands. We want to target customers who have bought products from two specific brands. Can you find out which customers have bought products from both the “Fort West\" and the \"Golden\" brands?"
   ]
  },
  {
   "cell_type": "code",
   "execution_count": null,
   "metadata": {},
   "outputs": [],
   "source": [
    "\n",
    "--What brands have an average price above $3 and contain at least 2 different products?\n",
    "select brand_name\n",
    "from product\n",
    "group by brand_name\n",
    "having avg(price)&gt;3 and count(distinct product_id) &gt;= 2;\n",
    "\n",
    "--what percent of our sales transactions had a valid promotion applied?\n",
    "select\n",
    "round(sum(case\n",
    "           when promotion_id &gt; 0 then 1\n",
    "           else 0\n",
    "       end)*100.0/count(*),2)\n",
    "from sales;\n",
    "\n",
    "--what are the top 3 selling product classes by total sales?\n",
    "select p.product_class_id\n",
    "from\n",
    "sales s\n",
    "join product p\n",
    "on s.product_id = p.product_id\n",
    "group by p.product_class_id\n",
    "order by sum(p.price*s.units_sold) desc limit 3;\n",
    "\n",
    "--find out which customers have bought products from both the “Fort West\" and the \"Golden\" brands\n",
    "\n",
    "select c.first_name, c.last_name\n",
    "from\n",
    "(select s.customer_id\n",
    "from product p\n",
    "join sales s\n",
    "on p.product_id = s.product_id\n",
    "where p.brand_name = 'Fort West' and p.brand_name = 'Golden')t\n",
    "join customers c\n",
    "on t.customer_id = c.customer_id;\n",
    "\n"
   ]
  },
  {
   "cell_type": "code",
   "execution_count": null,
   "metadata": {},
   "outputs": [],
   "source": [
    "4\n",
    "select tmp.customer_id, c2.first_name, c2.last_name from\n",
    "(\n",
    "select distinct customer_id\n",
    "from Sales s\n",
    "inner join product p\n",
    "on s.product_id = p.product_id\n",
    "where p.brand_name = \"Fort West\"\n",
    "INTERSECT\n",
    "select distinct customer_id\n",
    "from Sales s\n",
    "inner join product p\n",
    "on s.product_id = p.product_id\n",
    "where p.brand_name = \"Golden\" ) tmp\n",
    "join customers c2\n",
    "on tmp.customer_id = c2.customer_id"
   ]
  }
 ],
 "metadata": {
  "kernelspec": {
   "display_name": "Python 3",
   "language": "python",
   "name": "python3"
  },
  "language_info": {
   "codemirror_mode": {
    "name": "ipython",
    "version": 3
   },
   "file_extension": ".py",
   "mimetype": "text/x-python",
   "name": "python",
   "nbconvert_exporter": "python",
   "pygments_lexer": "ipython3",
   "version": "3.5.3"
  }
 },
 "nbformat": 4,
 "nbformat_minor": 4
}
