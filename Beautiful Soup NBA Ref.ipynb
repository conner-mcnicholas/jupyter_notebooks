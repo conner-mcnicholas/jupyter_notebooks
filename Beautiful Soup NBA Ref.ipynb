{
 "cells": [
  {
   "cell_type": "code",
   "execution_count": null,
   "id": "challenging-skiing",
   "metadata": {},
   "outputs": [],
   "source": [
    "# from urllib.request import urlopen\n",
    "from bs4 import BeautifulSoup\n",
    "import pandas as pd\n",
    "\n",
    "# NBA season we will be analyzing\n",
    "year = 2019\n",
    "# URL page we will scraping (see image above)\n",
    "url = \"https://www.basketball-reference.com/leagues/NBA_{}_per_game.html\".format(year)\n",
    "# this is the HTML from the given URL\n",
    "html = urlopen(url)\n",
    "soup = BeautifulSoup(html)\n",
    "\n",
    "# use findALL() to get the column headers\n",
    "soup.findAll('tr', limit=2)\n",
    "# use getText()to extract the text we need into a list\n",
    "headers = [th.getText() for th in soup.findAll('tr', limit=2)[0].findAll('th')]\n",
    "# exclude the first column as we will not need the ranking order from Basketball Reference for the analysis\n",
    "headers = headers[1:]\n",
    "#headers\n",
    "\n",
    "# avoid the first header row\n",
    "rows = soup.findAll('tr')[1:]\n",
    "player_stats = [\n",
    "                [td.getText() \n",
    "                 for td in rows[i].findAll('td')]\n",
    "                 for i in range(len(rows))\n",
    "                ]\n",
    "\n",
    "stats = pd.DataFrame(player_stats, columns = headers)\n",
    "len(stats)"
   ]
  },
  {
   "cell_type": "code",
   "execution_count": 157,
   "id": "loose-delicious",
   "metadata": {
    "scrolled": true
   },
   "outputs": [
    {
     "data": {
      "text/plain": [
       "[<tr>\n",
       " <th aria-label=\"Rank\" class=\"ranker poptip sort_default_asc show_partial_when_sorting center\" data-stat=\"ranker\" data-tip=\"Rank\" scope=\"col\">Rk</th>\n",
       " <th aria-label=\"Player\" class=\"poptip sort_default_asc center\" data-stat=\"player\" scope=\"col\">Player</th>\n",
       " <th aria-label=\"Position\" class=\"poptip sort_default_asc center\" data-stat=\"pos\" data-tip=\"Position\" scope=\"col\">Pos</th>\n",
       " <th aria-label=\"Player's age on February 1 of the season\" class=\"poptip sort_default_asc center\" data-stat=\"age\" data-tip=\"Player's age on February 1 of the season\" scope=\"col\">Age</th>\n",
       " <th aria-label=\"Team\" class=\"poptip sort_default_asc center\" data-stat=\"team_id\" data-tip=\"Team\" scope=\"col\">Tm</th>\n",
       " <th aria-label=\"Games\" class=\"poptip center\" data-stat=\"g\" data-tip=\"Games\" scope=\"col\">G</th>\n",
       " <th aria-label=\"Games Started\" class=\"poptip center\" data-stat=\"gs\" data-tip=\"Games Started\" scope=\"col\">GS</th>\n",
       " <th aria-label=\"Minutes Played Per Game\" class=\"poptip hide_non_quals center\" data-stat=\"mp_per_g\" data-tip=\"Minutes Played Per Game\" scope=\"col\">MP</th>\n",
       " <th aria-label=\"Field Goals Per Game\" class=\"poptip hide_non_quals center\" data-stat=\"fg_per_g\" data-tip=\"Field Goals Per Game\" scope=\"col\">FG</th>\n",
       " <th aria-label=\"Field Goal Attempts Per Game\" class=\"poptip hide_non_quals center\" data-stat=\"fga_per_g\" data-tip=\"Field Goal Attempts Per Game\" scope=\"col\">FGA</th>\n",
       " <th aria-label=\"Field Goal Percentage\" class=\"poptip hide_non_quals center\" data-stat=\"fg_pct\" data-tip=\"Field Goal Percentage\" scope=\"col\">FG%</th>\n",
       " <th aria-label=\"3-Point Field Goals Per Game\" class=\"poptip hide_non_quals center\" data-stat=\"fg3_per_g\" data-tip=\"3-Point Field Goals Per Game\" scope=\"col\">3P</th>\n",
       " <th aria-label=\"3-Point Field Goal Attempts Per Game\" class=\"poptip hide_non_quals center\" data-stat=\"fg3a_per_g\" data-tip=\"3-Point Field Goal Attempts Per Game\" scope=\"col\">3PA</th>\n",
       " <th aria-label=\"3-Point Field Goal Percentage\" class=\"poptip hide_non_quals center\" data-stat=\"fg3_pct\" data-tip=\"3-Point Field Goal Percentage\" scope=\"col\">3P%</th>\n",
       " <th aria-label=\"2-Point Field Goals Per Game\" class=\"poptip hide_non_quals center\" data-stat=\"fg2_per_g\" data-tip=\"2-Point Field Goals Per Game\" scope=\"col\">2P</th>\n",
       " <th aria-label=\"2-Point Field Goal Attempts Per Game\" class=\"poptip hide_non_quals center\" data-stat=\"fg2a_per_g\" data-tip=\"2-Point Field Goal Attempts Per Game\" scope=\"col\">2PA</th>\n",
       " <th aria-label=\"2-Point Field Goal Percentage\" class=\"poptip hide_non_quals center\" data-stat=\"fg2_pct\" data-tip=\"2-Point Field Goal Percentage\" scope=\"col\">2P%</th>\n",
       " <th aria-label=\"Effective Field Goal Percentage\" class=\"poptip hide_non_quals center\" data-stat=\"efg_pct\" data-tip=\"&lt;strong&gt;Effective Field Goal Percentage&lt;/strong&gt;&lt;br&gt;This statistic adjusts for the fact that a 3-point field goal is worth one more point than a 2-point field goal.\" scope=\"col\">eFG%</th>\n",
       " <th aria-label=\"Free Throws Per Game\" class=\"poptip hide_non_quals center\" data-stat=\"ft_per_g\" data-tip=\"Free Throws Per Game\" scope=\"col\">FT</th>\n",
       " <th aria-label=\"Free Throw Attempts Per Game\" class=\"poptip hide_non_quals center\" data-stat=\"fta_per_g\" data-tip=\"Free Throw Attempts Per Game\" scope=\"col\">FTA</th>\n",
       " <th aria-label=\"Free Throw Percentage\" class=\"poptip hide_non_quals center\" data-stat=\"ft_pct\" data-tip=\"Free Throw Percentage\" scope=\"col\">FT%</th>\n",
       " <th aria-label=\"Offensive Rebounds Per Game\" class=\"poptip hide_non_quals center\" data-stat=\"orb_per_g\" data-tip=\"Offensive Rebounds Per Game\" scope=\"col\">ORB</th>\n",
       " <th aria-label=\"Defensive Rebounds Per Game\" class=\"poptip hide_non_quals center\" data-stat=\"drb_per_g\" data-tip=\"Defensive Rebounds Per Game\" scope=\"col\">DRB</th>\n",
       " <th aria-label=\"Total Rebounds Per Game\" class=\"poptip hide_non_quals center\" data-stat=\"trb_per_g\" data-tip=\"Total Rebounds Per Game\" scope=\"col\">TRB</th>\n",
       " <th aria-label=\"Assists Per Game\" class=\"poptip hide_non_quals center\" data-stat=\"ast_per_g\" data-tip=\"Assists Per Game\" scope=\"col\">AST</th>\n",
       " <th aria-label=\"Steals Per Game\" class=\"poptip hide_non_quals center\" data-stat=\"stl_per_g\" data-tip=\"Steals Per Game\" scope=\"col\">STL</th>\n",
       " <th aria-label=\"Blocks Per Game\" class=\"poptip hide_non_quals center\" data-stat=\"blk_per_g\" data-tip=\"Blocks Per Game\" scope=\"col\">BLK</th>\n",
       " <th aria-label=\"Turnovers Per Game\" class=\"poptip hide_non_quals center\" data-stat=\"tov_per_g\" data-tip=\"Turnovers Per Game\" scope=\"col\">TOV</th>\n",
       " <th aria-label=\"Personal Fouls Per Game\" class=\"poptip hide_non_quals center\" data-stat=\"pf_per_g\" data-tip=\"Personal Fouls Per Game\" scope=\"col\">PF</th>\n",
       " <th aria-label=\"Points Per Game\" class=\"poptip hide_non_quals center\" data-stat=\"pts_per_g\" data-tip=\"Points Per Game\" scope=\"col\">PTS</th>\n",
       " </tr>,\n",
       " <tr class=\"full_table\"><th class=\"right\" csk=\"1\" data-stat=\"ranker\" scope=\"row\">1</th><td class=\"left\" csk=\"Abrines,Álex\" data-append-csv=\"abrinal01\" data-stat=\"player\"><a href=\"/players/a/abrinal01.html\">Álex Abrines</a></td><td class=\"center\" data-stat=\"pos\">SG</td><td class=\"right\" data-stat=\"age\">25</td><td class=\"left\" data-stat=\"team_id\"><a href=\"/teams/OKC/2019.html\">OKC</a></td><td class=\"right\" data-stat=\"g\">31</td><td class=\"right\" data-stat=\"gs\">2</td><td class=\"right non_qual\" data-stat=\"mp_per_g\">19.0</td><td class=\"right non_qual\" data-stat=\"fg_per_g\">1.8</td><td class=\"right non_qual\" data-stat=\"fga_per_g\">5.1</td><td class=\"right non_qual\" data-stat=\"fg_pct\">.357</td><td class=\"right non_qual\" data-stat=\"fg3_per_g\">1.3</td><td class=\"right non_qual\" data-stat=\"fg3a_per_g\">4.1</td><td class=\"right non_qual\" data-stat=\"fg3_pct\">.323</td><td class=\"right non_qual\" data-stat=\"fg2_per_g\">0.5</td><td class=\"right non_qual\" data-stat=\"fg2a_per_g\">1.0</td><td class=\"right non_qual\" data-stat=\"fg2_pct\">.500</td><td class=\"right non_qual\" data-stat=\"efg_pct\">.487</td><td class=\"right non_qual\" data-stat=\"ft_per_g\">0.4</td><td class=\"right non_qual\" data-stat=\"fta_per_g\">0.4</td><td class=\"right non_qual\" data-stat=\"ft_pct\">.923</td><td class=\"right non_qual\" data-stat=\"orb_per_g\">0.2</td><td class=\"right non_qual\" data-stat=\"drb_per_g\">1.4</td><td class=\"right non_qual\" data-stat=\"trb_per_g\">1.5</td><td class=\"right non_qual\" data-stat=\"ast_per_g\">0.6</td><td class=\"right non_qual\" data-stat=\"stl_per_g\">0.5</td><td class=\"right non_qual\" data-stat=\"blk_per_g\">0.2</td><td class=\"right non_qual\" data-stat=\"tov_per_g\">0.5</td><td class=\"right non_qual\" data-stat=\"pf_per_g\">1.7</td><td class=\"right non_qual\" data-stat=\"pts_per_g\">5.3</td></tr>,\n",
       " <tr class=\"full_table\"><th class=\"right\" csk=\"2\" data-stat=\"ranker\" scope=\"row\">2</th><td class=\"left\" csk=\"Acy,Quincy\" data-append-csv=\"acyqu01\" data-stat=\"player\"><a href=\"/players/a/acyqu01.html\">Quincy Acy</a></td><td class=\"center\" data-stat=\"pos\">PF</td><td class=\"right\" data-stat=\"age\">28</td><td class=\"left\" data-stat=\"team_id\"><a href=\"/teams/PHO/2019.html\">PHO</a></td><td class=\"right\" data-stat=\"g\">10</td><td class=\"right iz\" data-stat=\"gs\">0</td><td class=\"right non_qual\" data-stat=\"mp_per_g\">12.3</td><td class=\"right non_qual\" data-stat=\"fg_per_g\">0.4</td><td class=\"right non_qual\" data-stat=\"fga_per_g\">1.8</td><td class=\"right non_qual\" data-stat=\"fg_pct\">.222</td><td class=\"right non_qual\" data-stat=\"fg3_per_g\">0.2</td><td class=\"right non_qual\" data-stat=\"fg3a_per_g\">1.5</td><td class=\"right non_qual\" data-stat=\"fg3_pct\">.133</td><td class=\"right non_qual\" data-stat=\"fg2_per_g\">0.2</td><td class=\"right non_qual\" data-stat=\"fg2a_per_g\">0.3</td><td class=\"right non_qual\" data-stat=\"fg2_pct\">.667</td><td class=\"right non_qual\" data-stat=\"efg_pct\">.278</td><td class=\"right non_qual\" data-stat=\"ft_per_g\">0.7</td><td class=\"right non_qual\" data-stat=\"fta_per_g\">1.0</td><td class=\"right non_qual\" data-stat=\"ft_pct\">.700</td><td class=\"right non_qual\" data-stat=\"orb_per_g\">0.3</td><td class=\"right non_qual\" data-stat=\"drb_per_g\">2.2</td><td class=\"right non_qual\" data-stat=\"trb_per_g\">2.5</td><td class=\"right non_qual\" data-stat=\"ast_per_g\">0.8</td><td class=\"right non_qual\" data-stat=\"stl_per_g\">0.1</td><td class=\"right non_qual\" data-stat=\"blk_per_g\">0.4</td><td class=\"right non_qual\" data-stat=\"tov_per_g\">0.4</td><td class=\"right non_qual\" data-stat=\"pf_per_g\">2.4</td><td class=\"right non_qual\" data-stat=\"pts_per_g\">1.7</td></tr>]"
      ]
     },
     "execution_count": 157,
     "metadata": {},
     "output_type": "execute_result"
    }
   ],
   "source": [
    "soup.findAll('tr', limit=3)#[1]#.findAll('th')"
   ]
  },
  {
   "cell_type": "code",
   "execution_count": null,
   "id": "tired-husband",
   "metadata": {},
   "outputs": [],
   "source": [
    "sheet = gc.open_by_key('1C3_gG_oGbtZobrdnm2nh00wxeeeQ1FXCTJypkw8uNx0')\n",
    "data = sheet.get_worksheet(1)\n",
    "df = pd.DataFrame(data.get_all_records())\n",
    "df.head"
   ]
  },
  {
   "cell_type": "code",
   "execution_count": null,
   "id": "unavailable-indianapolis",
   "metadata": {},
   "outputs": [],
   "source": []
  },
  {
   "cell_type": "code",
   "execution_count": 75,
   "id": "matched-belize",
   "metadata": {},
   "outputs": [
    {
     "data": {
      "text/plain": [
       "<th aria-label=\"Rank\" class=\"ranker poptip sort_default_asc show_partial_when_sorting center\" data-stat=\"ranker\" data-tip=\"Rank\" scope=\"col\">Rk</th>"
      ]
     },
     "execution_count": 75,
     "metadata": {},
     "output_type": "execute_result"
    }
   ],
   "source": [
    "# use findALL() to get the column headers\n",
    "soup.findAll('th', limit=1)[0]"
   ]
  },
  {
   "cell_type": "code",
   "execution_count": 81,
   "id": "specific-prospect",
   "metadata": {},
   "outputs": [
    {
     "data": {
      "text/plain": [
       "<tr class=\"full_table\"><th class=\"right\" csk=\"1\" data-stat=\"ranker\" scope=\"row\">1</th><td class=\"left\" csk=\"Abrines,Álex\" data-append-csv=\"abrinal01\" data-stat=\"player\"><a href=\"/players/a/abrinal01.html\">Álex Abrines</a></td><td class=\"center\" data-stat=\"pos\">SG</td><td class=\"right\" data-stat=\"age\">25</td><td class=\"left\" data-stat=\"team_id\"><a href=\"/teams/OKC/2019.html\">OKC</a></td><td class=\"right\" data-stat=\"g\">31</td><td class=\"right\" data-stat=\"gs\">2</td><td class=\"right non_qual\" data-stat=\"mp_per_g\">19.0</td><td class=\"right non_qual\" data-stat=\"fg_per_g\">1.8</td><td class=\"right non_qual\" data-stat=\"fga_per_g\">5.1</td><td class=\"right non_qual\" data-stat=\"fg_pct\">.357</td><td class=\"right non_qual\" data-stat=\"fg3_per_g\">1.3</td><td class=\"right non_qual\" data-stat=\"fg3a_per_g\">4.1</td><td class=\"right non_qual\" data-stat=\"fg3_pct\">.323</td><td class=\"right non_qual\" data-stat=\"fg2_per_g\">0.5</td><td class=\"right non_qual\" data-stat=\"fg2a_per_g\">1.0</td><td class=\"right non_qual\" data-stat=\"fg2_pct\">.500</td><td class=\"right non_qual\" data-stat=\"efg_pct\">.487</td><td class=\"right non_qual\" data-stat=\"ft_per_g\">0.4</td><td class=\"right non_qual\" data-stat=\"fta_per_g\">0.4</td><td class=\"right non_qual\" data-stat=\"ft_pct\">.923</td><td class=\"right non_qual\" data-stat=\"orb_per_g\">0.2</td><td class=\"right non_qual\" data-stat=\"drb_per_g\">1.4</td><td class=\"right non_qual\" data-stat=\"trb_per_g\">1.5</td><td class=\"right non_qual\" data-stat=\"ast_per_g\">0.6</td><td class=\"right non_qual\" data-stat=\"stl_per_g\">0.5</td><td class=\"right non_qual\" data-stat=\"blk_per_g\">0.2</td><td class=\"right non_qual\" data-stat=\"tov_per_g\">0.5</td><td class=\"right non_qual\" data-stat=\"pf_per_g\">1.7</td><td class=\"right non_qual\" data-stat=\"pts_per_g\">5.3</td></tr>"
      ]
     },
     "execution_count": 81,
     "metadata": {},
     "output_type": "execute_result"
    }
   ],
   "source": [
    "# use findALL() to get the column headers\n",
    "soup.findAll('tr', limit=2)[1]"
   ]
  },
  {
   "cell_type": "code",
   "execution_count": 105,
   "id": "virgin-saturday",
   "metadata": {},
   "outputs": [
    {
     "ename": "IndexError",
     "evalue": "list index out of range",
     "output_type": "error",
     "traceback": [
      "\u001b[0;31m---------------------------------------------------------------------------\u001b[0m",
      "\u001b[0;31mIndexError\u001b[0m                                Traceback (most recent call last)",
      "\u001b[0;32m<ipython-input-105-67eedb82485d>\u001b[0m in \u001b[0;36m<module>\u001b[0;34m\u001b[0m\n\u001b[1;32m      1\u001b[0m \u001b[0mv\u001b[0m\u001b[0;34m=\u001b[0m\u001b[0msoup\u001b[0m\u001b[0;34m.\u001b[0m\u001b[0mfindAll\u001b[0m\u001b[0;34m(\u001b[0m\u001b[0;34m'tr'\u001b[0m\u001b[0;34m,\u001b[0m \u001b[0mlimit\u001b[0m\u001b[0;34m=\u001b[0m\u001b[0;36m5\u001b[0m\u001b[0;34m)\u001b[0m\u001b[0;34m\u001b[0m\u001b[0;34m\u001b[0m\u001b[0m\n\u001b[1;32m      2\u001b[0m \u001b[0;32mfor\u001b[0m \u001b[0mi\u001b[0m \u001b[0;32min\u001b[0m \u001b[0mrange\u001b[0m\u001b[0;34m(\u001b[0m\u001b[0;36m0\u001b[0m\u001b[0;34m,\u001b[0m\u001b[0mlen\u001b[0m\u001b[0;34m(\u001b[0m\u001b[0mv\u001b[0m\u001b[0;34m)\u001b[0m\u001b[0;34m)\u001b[0m\u001b[0;34m:\u001b[0m\u001b[0;34m\u001b[0m\u001b[0;34m\u001b[0m\u001b[0m\n\u001b[0;32m----> 3\u001b[0;31m     \u001b[0mv\u001b[0m\u001b[0;34m[\u001b[0m\u001b[0mi\u001b[0m\u001b[0;34m]\u001b[0m\u001b[0;34m.\u001b[0m\u001b[0mfindAll\u001b[0m\u001b[0;34m(\u001b[0m\u001b[0;34m'td'\u001b[0m\u001b[0;34m)\u001b[0m\u001b[0;34m[\u001b[0m\u001b[0;36m0\u001b[0m\u001b[0;34m]\u001b[0m\u001b[0;34m.\u001b[0m\u001b[0mgetText\u001b[0m\u001b[0;34m(\u001b[0m\u001b[0;34m)\u001b[0m\u001b[0;34m\u001b[0m\u001b[0;34m\u001b[0m\u001b[0m\n\u001b[0m",
      "\u001b[0;31mIndexError\u001b[0m: list index out of range"
     ]
    }
   ],
   "source": [
    "players=soup.findAll('tr', limit=5)\n",
    "for i in range(0,len(players)):\n",
    "    v[i].findAll('td')[0].getText()"
   ]
  },
  {
   "cell_type": "code",
   "execution_count": 161,
   "id": "dominican-adapter",
   "metadata": {},
   "outputs": [],
   "source": [
    "tables=soup.findAll('tr')"
   ]
  },
  {
   "cell_type": "code",
   "execution_count": 162,
   "id": "described-affiliate",
   "metadata": {},
   "outputs": [
    {
     "data": {
      "text/plain": [
       "735"
      ]
     },
     "execution_count": 162,
     "metadata": {},
     "output_type": "execute_result"
    }
   ],
   "source": [
    "len(tables)"
   ]
  },
  {
   "cell_type": "code",
   "execution_count": 163,
   "id": "injured-germany",
   "metadata": {},
   "outputs": [
    {
     "data": {
      "text/plain": [
       "61"
      ]
     },
     "execution_count": 163,
     "metadata": {},
     "output_type": "execute_result"
    }
   ],
   "source": [
    "len(tables[0])"
   ]
  },
  {
   "cell_type": "code",
   "execution_count": 164,
   "id": "elder-freeze",
   "metadata": {},
   "outputs": [
    {
     "data": {
      "text/plain": [
       "30"
      ]
     },
     "execution_count": 164,
     "metadata": {},
     "output_type": "execute_result"
    }
   ],
   "source": [
    "len(tables[1])"
   ]
  },
  {
   "cell_type": "code",
   "execution_count": 165,
   "id": "piano-carolina",
   "metadata": {},
   "outputs": [
    {
     "data": {
      "text/plain": [
       "30"
      ]
     },
     "execution_count": 165,
     "metadata": {},
     "output_type": "execute_result"
    }
   ],
   "source": [
    "len(tables[2])"
   ]
  },
  {
   "cell_type": "code",
   "execution_count": 185,
   "id": "incorrect-chester",
   "metadata": {},
   "outputs": [],
   "source": [
    "stable1=tables[0]\n",
    "stable2=tables[1]\n",
    "stable3=tables[2]"
   ]
  },
  {
   "cell_type": "code",
   "execution_count": 186,
   "id": "wireless-outreach",
   "metadata": {},
   "outputs": [
    {
     "data": {
      "text/plain": [
       "30"
      ]
     },
     "execution_count": 186,
     "metadata": {},
     "output_type": "execute_result"
    }
   ],
   "source": [
    "len(stable1.findAll('th'))"
   ]
  },
  {
   "cell_type": "code",
   "execution_count": 187,
   "id": "generous-sarah",
   "metadata": {},
   "outputs": [],
   "source": [
    "ssubtable0=stable1.findAll('th')[0]\n",
    "ssubtable1=stable1.findAll('th')[0]\n",
    "ssubtable2=stable1.findAll('th')[0]"
   ]
  },
  {
   "cell_type": "code",
   "execution_count": 195,
   "id": "domestic-inspection",
   "metadata": {},
   "outputs": [
    {
     "data": {
      "text/plain": [
       "'Tm'"
      ]
     },
     "execution_count": 195,
     "metadata": {},
     "output_type": "execute_result"
    }
   ],
   "source": [
    "stable1.findAll()[4].getText()"
   ]
  },
  {
   "cell_type": "code",
   "execution_count": 179,
   "id": "cooperative-freeware",
   "metadata": {},
   "outputs": [
    {
     "data": {
      "text/plain": [
       "1"
      ]
     },
     "execution_count": 179,
     "metadata": {},
     "output_type": "execute_result"
    }
   ],
   "source": [
    "len(table3.findAll('th'))"
   ]
  },
  {
   "cell_type": "code",
   "execution_count": 41,
   "id": "adopted-stocks",
   "metadata": {},
   "outputs": [
    {
     "data": {
      "text/plain": [
       "<td class=\"left\" csk=\"Abrines,Álex\" data-append-csv=\"abrinal01\" data-stat=\"player\"><a href=\"/players/a/abrinal01.html\">Álex Abrines</a></td>"
      ]
     },
     "execution_count": 41,
     "metadata": {},
     "output_type": "execute_result"
    }
   ],
   "source": [
    "soup.findAll('td')[0]"
   ]
  },
  {
   "cell_type": "code",
   "execution_count": null,
   "id": "greater-tension",
   "metadata": {},
   "outputs": [],
   "source": [
    "\n",
    "import gspread\n",
    "import pandas as pd\n",
    "\n",
    "gc = gspread.service_account()\n",
    "\n",
    "sheet = gc.open_by_key('1C3_gG_oGbtZobrdnm2nh00wxeeeQ1FXCTJypkw8uNx0')\n",
    "data = sheet.get_worksheet(1)\n",
    "df = pd.DataFrame(data.get_all_records())\n",
    "df.head"
   ]
  },
  {
   "cell_type": "code",
   "execution_count": null,
   "id": "competent-belize",
   "metadata": {},
   "outputs": [],
   "source": [
    "sheet = gc.open_by_key('1C3_gG_oGbtZobrdnm2nh00wxeeeQ1FXCTJypkw8uNx0')"
   ]
  }
 ],
 "metadata": {
  "kernelspec": {
   "display_name": "Python 3",
   "language": "python",
   "name": "python3"
  },
  "language_info": {
   "codemirror_mode": {
    "name": "ipython",
    "version": 3
   },
   "file_extension": ".py",
   "mimetype": "text/x-python",
   "name": "python",
   "nbconvert_exporter": "python",
   "pygments_lexer": "ipython3",
   "version": "3.8.3"
  }
 },
 "nbformat": 4,
 "nbformat_minor": 5
}
