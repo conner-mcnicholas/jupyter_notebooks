{
 "cells": [
  {
   "cell_type": "code",
   "execution_count": 3,
   "id": "sized-finance",
   "metadata": {},
   "outputs": [
    {
     "name": "stdout",
     "output_type": "stream",
     "text": [
      "average of each correlation:\n"
     ]
    },
    {
     "data": {
      "text/plain": [
       "rankWinFor    0.927254\n",
       "valuWinFor    0.951212\n",
       "rankWinDif    0.929044\n",
       "valuWinDif    0.952503\n",
       "dtype: float64"
      ]
     },
     "execution_count": 3,
     "metadata": {},
     "output_type": "execute_result"
    }
   ],
   "source": [
    "from sportsipy.nhl.teams import Teams\n",
    "from scipy.stats import pearsonr\n",
    "import pandas as pd\n",
    "from urllib.request import urlopen\n",
    "from bs4 import BeautifulSoup\n",
    "\n",
    "# https://towardsdatascience.com/web-scraping-nba-stats-4b4f8c525994\n",
    "def getGa(abbr,year):\n",
    "    # for abbr in abbr_list:\n",
    "    url = 'https://www.hockey-reference.com/teams/' + abbr + '/' + str(year) + '.html'\n",
    "    html = urlopen(url)\n",
    "    soup = BeautifulSoup(html,features=\"lxml\")\n",
    "    \n",
    "    # avoid the first header row\n",
    "    rows = soup.findAll('tr')[1:]\n",
    "    all_stats = [[td.getText() for td in rows[i].findAll('td')]for i in range(len(rows))]\n",
    "    all_stats2 = [e for e in all_stats if e]\n",
    "    all_stats3=[x for x in all_stats2 if len(x)>3]\n",
    "    team_stats = all_stats3[0]\n",
    "    \n",
    "    goals_against = team_stats[8]\n",
    "    return(goals_against)\n",
    "\n",
    "corrd = {}\n",
    "for c,year in enumerate(range(2010, 2021)):\n",
    "    teams = list(Teams(year))\n",
    "    statd = {}\n",
    "    for i,team in enumerate(teams[0:len(teams)]):\n",
    "        G = team.games_played\n",
    "        Rwin = round(team.wins/team.games_played,3)\n",
    "        GF = team.goals_for\n",
    "        GA = int(getGa(team.abbreviation,year))\n",
    "        statd[i] = {'Team' : team.name,\n",
    "                    'W' : team.wins,\n",
    "                    'L' : team.losses,\n",
    "                    'OTL' : team.overtime_losses,\n",
    "                    'G' : G,\n",
    "                    'Rwin' : round(((.5*team.overtime_losses)+team.wins)/G,3),\n",
    "                    'GF' : GF,\n",
    "                    'GA' : GA,\n",
    "                    'Rfor' : round(GF/(GF+GA),3),\n",
    "                    'GD' : GF-GA,\n",
    "                    'GD_per' : (GF-GA)/G} \n",
    "\n",
    "    df = pd.DataFrame(statd)\n",
    "    df = df.transpose()\n",
    "    \n",
    "    x = list(df['Rwin'])\n",
    "    seq = sorted(x,reverse=True)\n",
    "    index = [seq.index(v) for v in x]\n",
    "    df['Iwin'] =  index\n",
    "\n",
    "    x = list(df['Rfor'])\n",
    "    seq = sorted(x,reverse=True)\n",
    "    index = [seq.index(v) for v in x]\n",
    "    df['Ifor'] =  index\n",
    "    \n",
    "    x = list(df['GD'])\n",
    "    seq = sorted(x,reverse=True)\n",
    "    index = [seq.index(v) for v in x]\n",
    "    df['Idiff'] =  index\n",
    "     \n",
    "    rankWinFor, _ = pearsonr(df['Ifor'].tolist(), df['Iwin'].tolist())\n",
    "    valuWinFor, _ = pearsonr(df['Rfor'].tolist(), df['Rwin'].tolist())\n",
    "    rankWinDif, _ = pearsonr(df['Idiff'].tolist(), df['Iwin'].tolist())\n",
    "    valuWinDif, _ = pearsonr(df['GD'].tolist(), df['Rwin'].tolist())\n",
    "      \n",
    "    corrd[c] = {'rankWinFor':rankWinFor,\n",
    "                'valuWinFor':valuWinFor,\n",
    "                'rankWinDif':rankWinDif,\n",
    "                'valuWinDif':valuWinDif}\n",
    "\n",
    "df_corr = pd.DataFrame(corrd)\n",
    "df_corr = df_corr.transpose()\n",
    "print('average of each correlation:')\n",
    "df_corr.mean(axis='index')"
   ]
  },
  {
   "cell_type": "code",
   "execution_count": 1,
   "id": "cloudy-infrared",
   "metadata": {},
   "outputs": [
    {
     "name": "stdout",
     "output_type": "stream",
     "text": [
      "average of each correlation:\n"
     ]
    },
    {
     "data": {
      "text/plain": [
       "rankWinFor    0.937692\n",
       "valuWinFor    0.936748\n",
       "rankWinDif    0.934896\n",
       "valuWinDif    0.935279\n",
       "dtype: float64"
      ]
     },
     "execution_count": 1,
     "metadata": {},
     "output_type": "execute_result"
    }
   ],
   "source": [
    "from sportsipy.mlb.teams import Teams\n",
    "\n",
    "corrd = {}\n",
    "for c,year in enumerate(range(2010, 2021)):\n",
    "    teams = list(Teams(year))\n",
    "    statd = {}\n",
    "    for i,team in enumerate(teams[0:len(teams)]):\n",
    "                    G = team.games\n",
    "                    GF = int(G*team.runs)\n",
    "                    GA = int(G*team.runs_against)\n",
    "                    statd[i] = {'Team' : team.name,\n",
    "                    'W' : team.wins,\n",
    "                    'L' : team.losses,\n",
    "                    'G' : G,\n",
    "                    'Rwin' : round(team.wins/G,3),\n",
    "                    'GF' : GF,\n",
    "                    'GA' : GA,\n",
    "                    'Rfor' : round(GF/(GF+GA),3),\n",
    "                    'GD' : GF-GA,\n",
    "                    'GD_per' : round((GF-GA)/G,2)}\n",
    "\n",
    "    df = pd.DataFrame(statd)\n",
    "    df = df.transpose()\n",
    "    \n",
    "    x = list(df['Rwin'])\n",
    "    seq = sorted(x,reverse=True)\n",
    "    index = [seq.index(v) for v in x]\n",
    "    df['Iwin'] =  index\n",
    "\n",
    "    x = list(df['Rfor'])\n",
    "    seq = sorted(x,reverse=True)\n",
    "    index = [seq.index(v) for v in x]\n",
    "    df['Ifor'] =  index\n",
    "    \n",
    "    x = list(df['GD'])\n",
    "    seq = sorted(x,reverse=True)\n",
    "    index = [seq.index(v) for v in x]\n",
    "    df['Idiff'] =  index\n",
    "    \n",
    "    rankWinFor, _ = pearsonr(df['Ifor'].tolist(), df['Iwin'].tolist())\n",
    "    valuWinFor, _ = pearsonr(df['Rfor'].tolist(), df['Rwin'].tolist())\n",
    "    rankWinDif, _ = pearsonr(df['Idiff'].tolist(), df['Iwin'].tolist())\n",
    "    valuWinDif, _ = pearsonr(df['GD'].tolist(), df['Rwin'].tolist())\n",
    "      \n",
    "    corrd[c] = {'rankWinFor':rankWinFor,\n",
    "                'valuWinFor':valuWinFor,\n",
    "                'rankWinDif':rankWinDif,\n",
    "                'valuWinDif':valuWinDif}\n",
    "\n",
    "df_corr = pd.DataFrame(corrd)\n",
    "df_corr = df_corr.transpose()\n",
    "print('average of each correlation:')\n",
    "df_corr.mean(axis='index')"
   ]
  },
  {
   "cell_type": "code",
   "execution_count": 2,
   "id": "turned-cartridge",
   "metadata": {},
   "outputs": [
    {
     "name": "stdout",
     "output_type": "stream",
     "text": [
      "average of each correlation:\n"
     ]
    },
    {
     "data": {
      "text/plain": [
       "rankWinFor    0.893465\n",
       "valuWinFor    0.910221\n",
       "rankWinDif    0.897721\n",
       "valuWinDif    0.915753\n",
       "dtype: float64"
      ]
     },
     "execution_count": 2,
     "metadata": {},
     "output_type": "execute_result"
    }
   ],
   "source": [
    "from sportsipy.nfl.teams import Teams\n",
    "\n",
    "corrd = {}\n",
    "for c,year in enumerate(range(2010, 2021)):\n",
    "    teams = list(Teams(year))\n",
    "    statd = {}\n",
    "    for i,team in enumerate(teams[0:len(teams)]):\n",
    "        statd[i] = {#'TEA' : team.abbreviation,\n",
    "                    'Team' : team.name,\n",
    "                    #'Rank' : team.rank,\n",
    "                    'W' : team.wins,\n",
    "                    'L' : team.losses,\n",
    "                    'GP' : team.games_played,\n",
    "                    'Rwin' : round(team.wins/team.games_played,4),\n",
    "                    'GF' : team.points_for,\n",
    "                    'GA' : team.points_against,\n",
    "                    'Rfor' : round(team.points_for/(team.points_for+team.points_against),4),\n",
    "                    'GD' : team.points_for-team.points_against,\n",
    "                    'GD_per' : (team.points_for-team.points_against)/team.games_played}\n",
    "\n",
    "    df = pd.DataFrame(statd)\n",
    "    df = df.transpose()\n",
    "    \n",
    "    x = list(df['Rwin'])\n",
    "    seq = sorted(x,reverse=True)\n",
    "    index = [seq.index(v) for v in x]\n",
    "    df['Iwin'] =  index\n",
    "\n",
    "    x = list(df['Rfor'])\n",
    "    seq = sorted(x,reverse=True)\n",
    "    index = [seq.index(v) for v in x]\n",
    "    df['Ifor'] =  index\n",
    "    \n",
    "    x = list(df['GD'])\n",
    "    seq = sorted(x,reverse=True)\n",
    "    index = [seq.index(v) for v in x]\n",
    "    df['Idiff'] =  index\n",
    "    \n",
    "    rankWinFor, _ = pearsonr(df['Ifor'].tolist(), df['Iwin'].tolist())\n",
    "    valuWinFor, _ = pearsonr(df['Rfor'].tolist(), df['Rwin'].tolist())\n",
    "    rankWinDif, _ = pearsonr(df['Idiff'].tolist(), df['Iwin'].tolist())\n",
    "    valuWinDif, _ = pearsonr(df['GD'].tolist(), df['Rwin'].tolist())\n",
    "      \n",
    "    corrd[c] = {'rankWinFor':rankWinFor,\n",
    "                'valuWinFor':valuWinFor,\n",
    "                'rankWinDif':rankWinDif,\n",
    "                'valuWinDif':valuWinDif}\n",
    "\n",
    "df_corr = pd.DataFrame(corrd)\n",
    "df_corr = df_corr.transpose()\n",
    "print('average of each correlation:')\n",
    "df_corr.mean(axis='index')"
   ]
  }
 ],
 "metadata": {
  "kernelspec": {
   "display_name": "Python 3",
   "language": "python",
   "name": "python3"
  },
  "language_info": {
   "codemirror_mode": {
    "name": "ipython",
    "version": 3
   },
   "file_extension": ".py",
   "mimetype": "text/x-python",
   "name": "python",
   "nbconvert_exporter": "python",
   "pygments_lexer": "ipython3",
   "version": "3.8.3"
  }
 },
 "nbformat": 4,
 "nbformat_minor": 5
}
