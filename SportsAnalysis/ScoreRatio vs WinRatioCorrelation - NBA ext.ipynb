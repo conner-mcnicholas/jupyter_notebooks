{
 "cells": [
  {
   "cell_type": "code",
   "execution_count": 1,
   "id": "yellow-large",
   "metadata": {},
   "outputs": [],
   "source": [
    "from sportsipy.nba.teams import Teams\n",
    "from scipy.stats import pearsonr\n",
    "from scipy.stats import skew,kurtosis\n",
    "import statistics\n",
    "import pandas as pd\n",
    "from matplotlib import pyplot as plt\n",
    "import collections"
   ]
  },
  {
   "cell_type": "code",
   "execution_count": null,
   "id": "automatic-tucson",
   "metadata": {},
   "outputs": [
    {
     "name": "stdout",
     "output_type": "stream",
     "text": [
      "1957  St. Louis Hawks: -2 (new minDelta) (new maxDelta)\n",
      "1968  Baltimore Bullets: -3 (new min)\n",
      "1975  Portland Trail Blazers\n",
      "        Milwaukee Bucks: -5 (new min)\n",
      "1977  Phoenix Suns: -7 (new min)\n",
      "1977  Boston Celtics: 6 (new max)\n"
     ]
    }
   ],
   "source": [
    "minDelta = 0\n",
    "maxDelta = 0\n",
    "deltaList = []\n",
    "deltaSumL = []\n",
    "for year in range(1957, 2021):\n",
    "    teams = list(Teams(year))\n",
    "    statd = {}\n",
    "    for i,team in enumerate(teams[0:len(teams)]):\n",
    "        df = team.schedule.dataframe\n",
    "        df = df[df['playoffs'] == False]\n",
    "        W = max(df['wins'])\n",
    "        G = max(df['game'])\n",
    "        GF = sum(df['points_scored'])\n",
    "        GA = sum(df['points_allowed'])\n",
    "        statd[i] = {'Team' : team.name,\n",
    "            'WinPct' : round(100*W/G,3),\n",
    "            'GfrPct' : round(100*GF/(GF+GA),3)}\n",
    "        \n",
    "    df = pd.DataFrame(statd)\n",
    "    df = df.transpose()\n",
    "\n",
    "    l = df[['WinPct','GfrPct']].values.tolist()\n",
    "    seq = sorted(l, key=lambda x: ((-float(x[0])), (-float(x[1]))))\n",
    "    index = [seq.index(v) for v in l]\n",
    "    df['Iwin'] =  index\n",
    "\n",
    "    l = df[['GfrPct','WinPct']].values.tolist()\n",
    "    seq = sorted(l, key=lambda x: ((-float(x[0])), (-float(x[1]))))\n",
    "    index = [seq.index(v) for v in l]\n",
    "    df['Igfp'] =  index\n",
    "\n",
    "    df['Delta'] = df['Igfp']-df['Iwin']\n",
    "    x = list(df['Delta'])\n",
    "    \n",
    "    locMinDelta = int(min(df['Delta']))\n",
    "    locMinTeam = df.Team[df['Delta'] == locMinDelta]\n",
    "    locMinTeam = locMinTeam.to_string(index=False)\n",
    "    locMaxDelta = int(max(df['Delta']))\n",
    "    locMaxTeam = df.Team[df['Delta'] == locMaxDelta]\n",
    "    locMaxTeam = locMaxTeam.to_string(index=False)\n",
    "    \n",
    "    if maxDelta == minDelta:\n",
    "        minDelta = locMinDelta\n",
    "        maxDelta = locMaxDelta\n",
    "        minTeam = locMinTeam\n",
    "        maxTeam = locMaxTeam\n",
    "        minYear = year\n",
    "        maxYear = year\n",
    "        print('%s %s: %s (new minDelta) (new maxDelta)' % (year,locMinTeam,round(minDelta,3)))\n",
    "    if locMinDelta < minDelta:\n",
    "        minDelta= locMinDelta\n",
    "        minTeam = locMinTeam\n",
    "        minYear = year\n",
    "        print('%s %s: %s (new min)' % (year,locMinTeam,round(minDelta,3)))\n",
    "    if locMaxDelta > maxDelta:\n",
    "        maxDelta = locMaxDelta\n",
    "        maxTeam = locMaxTeam\n",
    "        maxYear = year\n",
    "        print('%s %s: %s (new max)' % (year,locMaxTeam,round(maxDelta,3)))\n",
    "    \n",
    "    for d in x:\n",
    "        deltaList.append(d)\n",
    "\n",
    "deltaList=sorted(deltaList,reverse=False)"
   ]
  },
  {
   "cell_type": "code",
   "execution_count": null,
   "id": "centered-brazilian",
   "metadata": {},
   "outputs": [],
   "source": [
    "print('max: ' + str(max(deltaList)))\n",
    "print('min: ' + str(min(deltaList)))\n",
    "print('median: ' + str(statistics.median(deltaList)))\n",
    "print('mean: ' + str(round(statistics.mean(deltaList),2)))\n",
    "print('mode: ' + str(statistics.mode(deltaList)))\n",
    "print('pstdev: ' + str(round(statistics.pstdev(deltaList),2)))\n",
    "print('pvariance: ' + str(round(statistics.pvariance(deltaList),2)))\n",
    "print('skew: ' + str(round(skew(deltaList,bias=False),2)))\n",
    "print('kurtosis-3: ' + str(round(kurtosis(deltaList,bias=False)-3,2)))\n",
    "\n",
    "quartiles=[round(q, 2) for q in statistics.quantiles(deltaList, n=4)]\n",
    "print('quartiles(excl): '+ str(quartiles))\n",
    "deciles=[round(q, 2) for q in statistics.quantiles(deltaList, n=10)]\n",
    "print('deciles(excl): '+ str(deciles))\n",
    "print('count: ' + str(len(deltaList)))"
   ]
  },
  {
   "cell_type": "code",
   "execution_count": null,
   "id": "indoor-concert",
   "metadata": {},
   "outputs": [],
   "source": [
    "counter=collections.Counter(deltaList)\n",
    "dely = list(counter.values())\n",
    "delx = list(counter.keys())\n",
    "fig, ax = plt.subplots(figsize=(10, 6))\n",
    "ax.bar(delx,dely)\n",
    "plt.show()"
   ]
  },
  {
   "cell_type": "code",
   "execution_count": null,
   "id": "satellite-cherry",
   "metadata": {},
   "outputs": [],
   "source": [
    "pd.DataFrame(list(zip(delx,dely)),columns=['delta','freq'])"
   ]
  }
 ],
 "metadata": {
  "kernelspec": {
   "display_name": "Python 3",
   "language": "python",
   "name": "python3"
  },
  "language_info": {
   "codemirror_mode": {
    "name": "ipython",
    "version": 3
   },
   "file_extension": ".py",
   "mimetype": "text/x-python",
   "name": "python",
   "nbconvert_exporter": "python",
   "pygments_lexer": "ipython3",
   "version": "3.8.3"
  }
 },
 "nbformat": 4,
 "nbformat_minor": 5
}
