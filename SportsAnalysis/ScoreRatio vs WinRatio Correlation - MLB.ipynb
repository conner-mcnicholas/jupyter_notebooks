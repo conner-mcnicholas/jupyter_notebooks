{
 "cells": [
  {
   "cell_type": "code",
   "execution_count": 1,
   "id": "aging-anger",
   "metadata": {},
   "outputs": [],
   "source": [
    "from sportsipy.mlb.teams import Teams\n",
    "from scipy.stats import pearsonr,skew,kurtosis,norm\n",
    "import statistics\n",
    "import pandas as pd\n",
    "from matplotlib import pyplot as plt\n",
    "import collections\n",
    "import numpy as np\n",
    "import matplotlib.mlab as mlab\n",
    "from matplotlib.ticker import PercentFormatter\n",
    "from scipy.interpolate import make_interp_spline, BSpline"
   ]
  },
  {
   "cell_type": "code",
   "execution_count": 10,
   "id": "distinct-story",
   "metadata": {},
   "outputs": [
    {
     "name": "stdout",
     "output_type": "stream",
     "text": [
      " teams  freq  numSeasons\n",
      "    24   168           7\n",
      "    26   416          16\n",
      "    28   140           5\n",
      "    30   690          23\n",
      "\n",
      "avg # teams: 27.91\n",
      "total seasons: 51\n"
     ]
    }
   ],
   "source": [
    "counter=collections.Counter(teamcList)\n",
    "yv = list(counter.values())\n",
    "yk = list(counter.keys())\n",
    "yearV = []\n",
    "for k,v in zip(yk,yv):\n",
    "    yearV.append(int(v/k))\n",
    "print(pd.DataFrame((zip(yk,yv,yearV)),columns=['teams','freq','numSeasons']).to_string(index=False))\n",
    "print('\\navg # teams: '+str(round(np.average(yk, weights=yv),2))+'\\ntotal seasons: '+str(sum(yearV)))"
   ]
  },
  {
   "cell_type": "code",
   "execution_count": 9,
   "id": "silver-sheriff",
   "metadata": {},
   "outputs": [
    {
     "data": {
      "text/plain": [
       "51"
      ]
     },
     "execution_count": 9,
     "metadata": {},
     "output_type": "execute_result"
    }
   ],
   "source": [
    "sum(yearV)"
   ]
  },
  {
   "cell_type": "code",
   "execution_count": null,
   "id": "excessive-liberal",
   "metadata": {
    "scrolled": true
   },
   "outputs": [
    {
     "name": "stdout",
     "output_type": "stream",
     "text": [
      "Correlation(WinRatio,GoalsForRatio)\n",
      "\n",
      "1970: 0.92 (new min) (new max)\n",
      "1971: 0.96 (new max)\n",
      "1972: 0.904 (new min)\n",
      "1973: 0.933\n"
     ]
    }
   ],
   "source": [
    "print('Correlation(WinRatio,GoalsForRatio)\\n')\n",
    "\n",
    "maxCorr= -1.1\n",
    "minCorr= 1.1\n",
    "minYear = 2021\n",
    "maxYear = 2021\n",
    "corrList = []\n",
    "for year in range(1970, 2021):\n",
    "    teams = list(Teams(year))\n",
    "    statd = {}\n",
    "    for i,team in enumerate(teams[0:len(teams)]):\n",
    "                    G = team.games\n",
    "                    GF = int(G*team.runs)\n",
    "                    GA = int(G*team.runs_against)\n",
    "                    statd[i] = {'Team' : team.name,\n",
    "                    'W' : team.wins,\n",
    "                    'L' : team.losses,\n",
    "                    'G' : G,\n",
    "                    'WinPct' : round(100*team.wins/G,3),\n",
    "                    'GF' : GF,\n",
    "                    'GA' : GA,\n",
    "                    'GD' : GF-GA,\n",
    "                    'GfrPct' : round(100*GF/(GF+GA),3),\n",
    "                    'GD_per' : round((GF-GA)/G,2)}\n",
    "                    \n",
    "    df = pd.DataFrame(statd)\n",
    "    df = df.transpose()\n",
    "\n",
    "    corr, _ = pearsonr(df['GfrPct'].tolist(), df['WinPct'].tolist())\n",
    "    corrList.append(corr)\n",
    "    \n",
    "    if maxCorr < minCorr:\n",
    "        minCorr = corr\n",
    "        maxCorr = corr\n",
    "        minYear = year\n",
    "        maxYear = year\n",
    "        print('%s: %s (new min) (new max)' % (year,round(corr,3)))\n",
    "    elif corr < minCorr:\n",
    "        minCorr= corr\n",
    "        minYear = year\n",
    "        print('%s: %s (new min)' % (year,round(corr,3)))\n",
    "    elif corr > maxCorr:\n",
    "        maxCorr= corr\n",
    "        maxYear = year\n",
    "        print('%s: %s (new max)' % (year,round(corr,3)))\n",
    "    else: \n",
    "        print('%s: %s' % (year,round(corr,3)))\n",
    "\n",
    "print('MIN:%s (%s)' % (minYear,round(minCorr,3)))\n",
    "print('MAX:%s (%s)' % (maxYear,round(maxCorr,3)))\n",
    "print('AVG:%s' % (round(sum(corrList)/len(corrList),3)))"
   ]
  },
  {
   "cell_type": "code",
   "execution_count": 4,
   "id": "finished-devices",
   "metadata": {},
   "outputs": [
    {
     "name": "stdout",
     "output_type": "stream",
     "text": [
      "1984 Luckiest,Median,Unluckiest Teams:\n",
      "               Team   W   L    G   GF   GA  WinPct   GD GD_per  GfrPct  Iwin  Igfp  Delta  Idel WINvs50\n",
      "      New York Mets  90  72  162  648  680  55.556  -32   -0.2  48.795     3    18     15     0   5.556\n",
      "    Minnesota Twins  81  81  162  680  680      50    0      0      50    11    13      2     4       0\n",
      " Pittsburgh Pirates  75  87  162  615  567  46.296   48    0.3   52.03    18     4    -14    25  -3.704\n"
     ]
    }
   ],
   "source": [
    "year=1984\n",
    "teams = list(Teams(year))\n",
    "statd = {}\n",
    "    \n",
    "for i,team in enumerate(teams[0:len(teams)]):\n",
    "                    G = team.games\n",
    "                    GF = int(G*team.runs)\n",
    "                    GA = int(G*team.runs_against)\n",
    "                    statd[i] = {'Team' : team.name,\n",
    "                    'W' : team.wins,\n",
    "                    'L' : team.losses,\n",
    "                    'G' : G,\n",
    "                    'WinPct' : round(100*team.wins/G,3),\n",
    "                    'GF' : GF,\n",
    "                    'GA' : GA,\n",
    "                    'GD' : GF-GA,\n",
    "                    'GfrPct' : round(100*GF/(GF+GA),3),\n",
    "                    'GD_per' : round((GF-GA)/G,2)}\n",
    "                    \n",
    "df = pd.DataFrame(statd)\n",
    "df = df.transpose()\n",
    "\n",
    "l = df[['WinPct','GfrPct']].values.tolist()\n",
    "seq = sorted(l, key=lambda x: ((-float(x[0])), (-float(x[1]))))\n",
    "index = [seq.index(v) for v in l]\n",
    "df['Iwin'] =  index\n",
    "\n",
    "l = df[['GfrPct','WinPct']].values.tolist()\n",
    "seq = sorted(l, key=lambda x: ((-float(x[0])), (-float(x[1]))))\n",
    "index = [seq.index(v) for v in l]\n",
    "df['Igfp'] =  index\n",
    "\n",
    "df['Delta'] = df['Igfp']-df['Iwin']\n",
    "x = list(df['Delta'])\n",
    "seq = sorted(x,reverse=True)\n",
    "index = [seq.index(v) for v in x]\n",
    "df['Idel'] =  index\n",
    "\n",
    "df = df[['Team','W','L','G','GF','GA','WinPct','GD','GD_per','GfrPct','Iwin','Igfp','Delta','Idel']]\n",
    "df = df.sort_values(['WinPct'],ascending = (False))\n",
    "df['WINvs50'] = df['WinPct']-50\n",
    "df_mdian = df.loc[abs(df['GD']) == min(abs((df['GD'])))]\n",
    "df_mdian = df_mdian[abs(df_mdian['WINvs50']) == min(abs(df_mdian['WINvs50']))].head(1)\n",
    "df_lucky = df[df['Delta'] == max(df['Delta'])].head(1)\n",
    "df_nluck = df[df['Delta'] == min(df['Delta'])].head(1)\n",
    "print('%s Luckiest,Median,Unluckiest Teams:' % year)\n",
    "df_ext = pd.concat([df_lucky,pd.concat([df_mdian,df_nluck],sort=False)],sort=False)\n",
    "print(df_ext.to_string(index=False))"
   ]
  },
  {
   "cell_type": "code",
   "execution_count": null,
   "id": "numerical-portland",
   "metadata": {},
   "outputs": [],
   "source": [
    "'''\n",
    "1984 Luckiest,Median,Unluckiest Teams: (most anomolous)\n",
    "               Team   W   L    G   GF   GA  WinPct   GD GD_per  GfrPct  Iwin  Igfp  Delta  Idel WINvs50\n",
    "      New York Mets  90  72  162  648  680  55.556  -32   -0.2  48.795     3    18     15     0   5.556\n",
    "    Minnesota Twins  81  81  162  680  680      50    0      0      50    11    13      2     4       0\n",
    " Pittsburgh Pirates  75  87  162  615  567  46.296   48    0.3   52.03    18     4    -14    25  -3.704\n",
    "    \n",
    "2010 Luckiest,Median,Unluckiest Teams: (most predictable)\n",
    "             Team   W   L    G   GF   GA  WinPct    GD GD_per  GfrPct  Iwin  Igfp  Delta  Idel WINvs50\n",
    "   Houston Astros  76  86  162  615  729  46.914  -114   -0.7  45.759    21    25      4     0  -3.086\n",
    "   Detroit Tigers  81  81  162  745  745      50     0      0      50    15    15      0    10       0\n",
    " Colorado Rockies  83  79  162  777  712  51.235    65    0.4  52.183    13    10     -3    28   1.235\n",
    "'''"
   ]
  },
  {
   "cell_type": "code",
   "execution_count": 17,
   "id": "chronic-choir",
   "metadata": {},
   "outputs": [
    {
     "name": "stdout",
     "output_type": "stream",
     "text": [
      "1970 MLB Season - Ranked by % Games Won [>LosPct]\n"
     ]
    },
    {
     "data": {
      "text/html": [
       "<div>\n",
       "<style scoped>\n",
       "    .dataframe tbody tr th:only-of-type {\n",
       "        vertical-align: middle;\n",
       "    }\n",
       "\n",
       "    .dataframe tbody tr th {\n",
       "        vertical-align: top;\n",
       "    }\n",
       "\n",
       "    .dataframe thead th {\n",
       "        text-align: right;\n",
       "    }\n",
       "</style>\n",
       "<table border=\"1\" class=\"dataframe\">\n",
       "  <thead>\n",
       "    <tr style=\"text-align: right;\">\n",
       "      <th></th>\n",
       "      <th>Team</th>\n",
       "      <th>W</th>\n",
       "      <th>L</th>\n",
       "      <th>G</th>\n",
       "      <th>GF</th>\n",
       "      <th>GA</th>\n",
       "      <th>WinPct</th>\n",
       "      <th>GD_per</th>\n",
       "      <th>GfrPct</th>\n",
       "      <th>Iwin</th>\n",
       "      <th>Igfp</th>\n",
       "      <th>Delta</th>\n",
       "      <th>Idel</th>\n",
       "    </tr>\n",
       "  </thead>\n",
       "  <tbody>\n",
       "    <tr>\n",
       "      <th>0</th>\n",
       "      <td>Baltimore Orioles</td>\n",
       "      <td>108</td>\n",
       "      <td>54</td>\n",
       "      <td>162</td>\n",
       "      <td>793</td>\n",
       "      <td>567</td>\n",
       "      <td>66.667</td>\n",
       "      <td>1.4</td>\n",
       "      <td>58.309</td>\n",
       "      <td>0</td>\n",
       "      <td>0</td>\n",
       "      <td>0</td>\n",
       "      <td>10</td>\n",
       "    </tr>\n",
       "    <tr>\n",
       "      <th>1</th>\n",
       "      <td>Cincinnati Reds</td>\n",
       "      <td>102</td>\n",
       "      <td>60</td>\n",
       "      <td>162</td>\n",
       "      <td>777</td>\n",
       "      <td>680</td>\n",
       "      <td>62.963</td>\n",
       "      <td>0.6</td>\n",
       "      <td>53.329</td>\n",
       "      <td>1</td>\n",
       "      <td>3</td>\n",
       "      <td>2</td>\n",
       "      <td>4</td>\n",
       "    </tr>\n",
       "    <tr>\n",
       "      <th>2</th>\n",
       "      <td>Minnesota Twins</td>\n",
       "      <td>98</td>\n",
       "      <td>64</td>\n",
       "      <td>162</td>\n",
       "      <td>745</td>\n",
       "      <td>599</td>\n",
       "      <td>60.494</td>\n",
       "      <td>0.9</td>\n",
       "      <td>55.432</td>\n",
       "      <td>2</td>\n",
       "      <td>1</td>\n",
       "      <td>-1</td>\n",
       "      <td>14</td>\n",
       "    </tr>\n",
       "    <tr>\n",
       "      <th>...</th>\n",
       "      <td>...</td>\n",
       "      <td>...</td>\n",
       "      <td>...</td>\n",
       "      <td>...</td>\n",
       "      <td>...</td>\n",
       "      <td>...</td>\n",
       "      <td>...</td>\n",
       "      <td>...</td>\n",
       "      <td>...</td>\n",
       "      <td>...</td>\n",
       "      <td>...</td>\n",
       "      <td>...</td>\n",
       "      <td>...</td>\n",
       "    </tr>\n",
       "    <tr>\n",
       "      <th>21</th>\n",
       "      <td>Milwaukee Brewers</td>\n",
       "      <td>65</td>\n",
       "      <td>97</td>\n",
       "      <td>163</td>\n",
       "      <td>619</td>\n",
       "      <td>749</td>\n",
       "      <td>39.877</td>\n",
       "      <td>-0.8</td>\n",
       "      <td>45.249</td>\n",
       "      <td>21</td>\n",
       "      <td>21</td>\n",
       "      <td>0</td>\n",
       "      <td>10</td>\n",
       "    </tr>\n",
       "    <tr>\n",
       "      <th>22</th>\n",
       "      <td>San Diego Padres</td>\n",
       "      <td>63</td>\n",
       "      <td>99</td>\n",
       "      <td>162</td>\n",
       "      <td>680</td>\n",
       "      <td>793</td>\n",
       "      <td>38.889</td>\n",
       "      <td>-0.7</td>\n",
       "      <td>46.164</td>\n",
       "      <td>22</td>\n",
       "      <td>19</td>\n",
       "      <td>-3</td>\n",
       "      <td>21</td>\n",
       "    </tr>\n",
       "    <tr>\n",
       "      <th>23</th>\n",
       "      <td>Chicago White Sox</td>\n",
       "      <td>56</td>\n",
       "      <td>106</td>\n",
       "      <td>162</td>\n",
       "      <td>631</td>\n",
       "      <td>826</td>\n",
       "      <td>34.568</td>\n",
       "      <td>-1.2</td>\n",
       "      <td>43.308</td>\n",
       "      <td>23</td>\n",
       "      <td>23</td>\n",
       "      <td>0</td>\n",
       "      <td>10</td>\n",
       "    </tr>\n",
       "  </tbody>\n",
       "</table>\n",
       "<p>24 rows × 13 columns</p>\n",
       "</div>"
      ],
      "text/plain": [
       "                 Team    W    L    G   GF   GA  WinPct GD_per  GfrPct  Iwin  \\\n",
       "0   Baltimore Orioles  108   54  162  793  567  66.667    1.4  58.309     0   \n",
       "1     Cincinnati Reds  102   60  162  777  680  62.963    0.6  53.329     1   \n",
       "2     Minnesota Twins   98   64  162  745  599  60.494    0.9  55.432     2   \n",
       "..                ...  ...  ...  ...  ...  ...     ...    ...     ...   ...   \n",
       "21  Milwaukee Brewers   65   97  163  619  749  39.877   -0.8  45.249    21   \n",
       "22   San Diego Padres   63   99  162  680  793  38.889   -0.7  46.164    22   \n",
       "23  Chicago White Sox   56  106  162  631  826  34.568   -1.2  43.308    23   \n",
       "\n",
       "    Igfp  Delta  Idel  \n",
       "0      0      0    10  \n",
       "1      3      2     4  \n",
       "2      1     -1    14  \n",
       "..   ...    ...   ...  \n",
       "21    21      0    10  \n",
       "22    19     -3    21  \n",
       "23    23      0    10  \n",
       "\n",
       "[24 rows x 13 columns]"
      ]
     },
     "metadata": {},
     "output_type": "display_data"
    },
    {
     "name": "stdout",
     "output_type": "stream",
     "text": [
      "\n",
      "1970 MLB Season - Ranked by % Points Scored [<GfrPct]\n"
     ]
    },
    {
     "data": {
      "text/html": [
       "<div>\n",
       "<style scoped>\n",
       "    .dataframe tbody tr th:only-of-type {\n",
       "        vertical-align: middle;\n",
       "    }\n",
       "\n",
       "    .dataframe tbody tr th {\n",
       "        vertical-align: top;\n",
       "    }\n",
       "\n",
       "    .dataframe thead th {\n",
       "        text-align: right;\n",
       "    }\n",
       "</style>\n",
       "<table border=\"1\" class=\"dataframe\">\n",
       "  <thead>\n",
       "    <tr style=\"text-align: right;\">\n",
       "      <th></th>\n",
       "      <th>Team</th>\n",
       "      <th>W</th>\n",
       "      <th>L</th>\n",
       "      <th>G</th>\n",
       "      <th>GF</th>\n",
       "      <th>GA</th>\n",
       "      <th>WinPct</th>\n",
       "      <th>GD_per</th>\n",
       "      <th>GfrPct</th>\n",
       "      <th>Iwin</th>\n",
       "      <th>Igfp</th>\n",
       "      <th>Delta</th>\n",
       "      <th>Idel</th>\n",
       "    </tr>\n",
       "  </thead>\n",
       "  <tbody>\n",
       "    <tr>\n",
       "      <th>0</th>\n",
       "      <td>Baltimore Orioles</td>\n",
       "      <td>108</td>\n",
       "      <td>54</td>\n",
       "      <td>162</td>\n",
       "      <td>793</td>\n",
       "      <td>567</td>\n",
       "      <td>66.667</td>\n",
       "      <td>1.4</td>\n",
       "      <td>58.309</td>\n",
       "      <td>0</td>\n",
       "      <td>0</td>\n",
       "      <td>0</td>\n",
       "      <td>10</td>\n",
       "    </tr>\n",
       "    <tr>\n",
       "      <th>2</th>\n",
       "      <td>Minnesota Twins</td>\n",
       "      <td>98</td>\n",
       "      <td>64</td>\n",
       "      <td>162</td>\n",
       "      <td>745</td>\n",
       "      <td>599</td>\n",
       "      <td>60.494</td>\n",
       "      <td>0.9</td>\n",
       "      <td>55.432</td>\n",
       "      <td>2</td>\n",
       "      <td>1</td>\n",
       "      <td>-1</td>\n",
       "      <td>14</td>\n",
       "    </tr>\n",
       "    <tr>\n",
       "      <th>10</th>\n",
       "      <td>Chicago Cubs</td>\n",
       "      <td>84</td>\n",
       "      <td>78</td>\n",
       "      <td>162</td>\n",
       "      <td>810</td>\n",
       "      <td>680</td>\n",
       "      <td>51.852</td>\n",
       "      <td>0.8</td>\n",
       "      <td>54.362</td>\n",
       "      <td>10</td>\n",
       "      <td>2</td>\n",
       "      <td>-8</td>\n",
       "      <td>23</td>\n",
       "    </tr>\n",
       "    <tr>\n",
       "      <th>...</th>\n",
       "      <td>...</td>\n",
       "      <td>...</td>\n",
       "      <td>...</td>\n",
       "      <td>...</td>\n",
       "      <td>...</td>\n",
       "      <td>...</td>\n",
       "      <td>...</td>\n",
       "      <td>...</td>\n",
       "      <td>...</td>\n",
       "      <td>...</td>\n",
       "      <td>...</td>\n",
       "      <td>...</td>\n",
       "      <td>...</td>\n",
       "    </tr>\n",
       "    <tr>\n",
       "      <th>21</th>\n",
       "      <td>Milwaukee Brewers</td>\n",
       "      <td>65</td>\n",
       "      <td>97</td>\n",
       "      <td>163</td>\n",
       "      <td>619</td>\n",
       "      <td>749</td>\n",
       "      <td>39.877</td>\n",
       "      <td>-0.8</td>\n",
       "      <td>45.249</td>\n",
       "      <td>21</td>\n",
       "      <td>21</td>\n",
       "      <td>0</td>\n",
       "      <td>10</td>\n",
       "    </tr>\n",
       "    <tr>\n",
       "      <th>17</th>\n",
       "      <td>Philadelphia Phillies</td>\n",
       "      <td>73</td>\n",
       "      <td>88</td>\n",
       "      <td>161</td>\n",
       "      <td>595</td>\n",
       "      <td>724</td>\n",
       "      <td>45.342</td>\n",
       "      <td>-0.8</td>\n",
       "      <td>45.11</td>\n",
       "      <td>17</td>\n",
       "      <td>22</td>\n",
       "      <td>5</td>\n",
       "      <td>0</td>\n",
       "    </tr>\n",
       "    <tr>\n",
       "      <th>23</th>\n",
       "      <td>Chicago White Sox</td>\n",
       "      <td>56</td>\n",
       "      <td>106</td>\n",
       "      <td>162</td>\n",
       "      <td>631</td>\n",
       "      <td>826</td>\n",
       "      <td>34.568</td>\n",
       "      <td>-1.2</td>\n",
       "      <td>43.308</td>\n",
       "      <td>23</td>\n",
       "      <td>23</td>\n",
       "      <td>0</td>\n",
       "      <td>10</td>\n",
       "    </tr>\n",
       "  </tbody>\n",
       "</table>\n",
       "<p>24 rows × 13 columns</p>\n",
       "</div>"
      ],
      "text/plain": [
       "                     Team    W    L    G   GF   GA  WinPct GD_per  GfrPct  \\\n",
       "0       Baltimore Orioles  108   54  162  793  567  66.667    1.4  58.309   \n",
       "2         Minnesota Twins   98   64  162  745  599  60.494    0.9  55.432   \n",
       "10           Chicago Cubs   84   78  162  810  680  51.852    0.8  54.362   \n",
       "..                    ...  ...  ...  ...  ...  ...     ...    ...     ...   \n",
       "21      Milwaukee Brewers   65   97  163  619  749  39.877   -0.8  45.249   \n",
       "17  Philadelphia Phillies   73   88  161  595  724  45.342   -0.8   45.11   \n",
       "23      Chicago White Sox   56  106  162  631  826  34.568   -1.2  43.308   \n",
       "\n",
       "    Iwin  Igfp  Delta  Idel  \n",
       "0      0     0      0    10  \n",
       "2      2     1     -1    14  \n",
       "10    10     2     -8    23  \n",
       "..   ...   ...    ...   ...  \n",
       "21    21    21      0    10  \n",
       "17    17    22      5     0  \n",
       "23    23    23      0    10  \n",
       "\n",
       "[24 rows x 13 columns]"
      ]
     },
     "metadata": {},
     "output_type": "display_data"
    },
    {
     "name": "stdout",
     "output_type": "stream",
     "text": [
      "\n",
      "1970 MLB Season - Ranked by Luck [<Delta (Igfp-Iwin)]\n"
     ]
    },
    {
     "data": {
      "text/html": [
       "<div>\n",
       "<style scoped>\n",
       "    .dataframe tbody tr th:only-of-type {\n",
       "        vertical-align: middle;\n",
       "    }\n",
       "\n",
       "    .dataframe tbody tr th {\n",
       "        vertical-align: top;\n",
       "    }\n",
       "\n",
       "    .dataframe thead th {\n",
       "        text-align: right;\n",
       "    }\n",
       "</style>\n",
       "<table border=\"1\" class=\"dataframe\">\n",
       "  <thead>\n",
       "    <tr style=\"text-align: right;\">\n",
       "      <th></th>\n",
       "      <th>Team</th>\n",
       "      <th>W</th>\n",
       "      <th>L</th>\n",
       "      <th>G</th>\n",
       "      <th>GF</th>\n",
       "      <th>GA</th>\n",
       "      <th>WinPct</th>\n",
       "      <th>GD_per</th>\n",
       "      <th>GfrPct</th>\n",
       "      <th>Iwin</th>\n",
       "      <th>Igfp</th>\n",
       "      <th>Delta</th>\n",
       "      <th>Idel</th>\n",
       "    </tr>\n",
       "  </thead>\n",
       "  <tbody>\n",
       "    <tr>\n",
       "      <th>17</th>\n",
       "      <td>Philadelphia Phillies</td>\n",
       "      <td>73</td>\n",
       "      <td>88</td>\n",
       "      <td>161</td>\n",
       "      <td>595</td>\n",
       "      <td>724</td>\n",
       "      <td>45.342</td>\n",
       "      <td>-0.8</td>\n",
       "      <td>45.11</td>\n",
       "      <td>17</td>\n",
       "      <td>22</td>\n",
       "      <td>5</td>\n",
       "      <td>0</td>\n",
       "    </tr>\n",
       "    <tr>\n",
       "      <th>13</th>\n",
       "      <td>Detroit Tigers</td>\n",
       "      <td>79</td>\n",
       "      <td>83</td>\n",
       "      <td>162</td>\n",
       "      <td>664</td>\n",
       "      <td>729</td>\n",
       "      <td>48.765</td>\n",
       "      <td>-0.4</td>\n",
       "      <td>47.667</td>\n",
       "      <td>13</td>\n",
       "      <td>16</td>\n",
       "      <td>3</td>\n",
       "      <td>1</td>\n",
       "    </tr>\n",
       "    <tr>\n",
       "      <th>3</th>\n",
       "      <td>New York Yankees</td>\n",
       "      <td>93</td>\n",
       "      <td>69</td>\n",
       "      <td>163</td>\n",
       "      <td>684</td>\n",
       "      <td>619</td>\n",
       "      <td>57.055</td>\n",
       "      <td>0.4</td>\n",
       "      <td>52.494</td>\n",
       "      <td>3</td>\n",
       "      <td>6</td>\n",
       "      <td>3</td>\n",
       "      <td>1</td>\n",
       "    </tr>\n",
       "    <tr>\n",
       "      <th>...</th>\n",
       "      <td>...</td>\n",
       "      <td>...</td>\n",
       "      <td>...</td>\n",
       "      <td>...</td>\n",
       "      <td>...</td>\n",
       "      <td>...</td>\n",
       "      <td>...</td>\n",
       "      <td>...</td>\n",
       "      <td>...</td>\n",
       "      <td>...</td>\n",
       "      <td>...</td>\n",
       "      <td>...</td>\n",
       "      <td>...</td>\n",
       "    </tr>\n",
       "    <tr>\n",
       "      <th>22</th>\n",
       "      <td>San Diego Padres</td>\n",
       "      <td>63</td>\n",
       "      <td>99</td>\n",
       "      <td>162</td>\n",
       "      <td>680</td>\n",
       "      <td>793</td>\n",
       "      <td>38.889</td>\n",
       "      <td>-0.7</td>\n",
       "      <td>46.164</td>\n",
       "      <td>22</td>\n",
       "      <td>19</td>\n",
       "      <td>-3</td>\n",
       "      <td>21</td>\n",
       "    </tr>\n",
       "    <tr>\n",
       "      <th>11</th>\n",
       "      <td>New York Mets</td>\n",
       "      <td>83</td>\n",
       "      <td>79</td>\n",
       "      <td>162</td>\n",
       "      <td>696</td>\n",
       "      <td>631</td>\n",
       "      <td>51.235</td>\n",
       "      <td>0.4</td>\n",
       "      <td>52.449</td>\n",
       "      <td>11</td>\n",
       "      <td>7</td>\n",
       "      <td>-4</td>\n",
       "      <td>22</td>\n",
       "    </tr>\n",
       "    <tr>\n",
       "      <th>10</th>\n",
       "      <td>Chicago Cubs</td>\n",
       "      <td>84</td>\n",
       "      <td>78</td>\n",
       "      <td>162</td>\n",
       "      <td>810</td>\n",
       "      <td>680</td>\n",
       "      <td>51.852</td>\n",
       "      <td>0.8</td>\n",
       "      <td>54.362</td>\n",
       "      <td>10</td>\n",
       "      <td>2</td>\n",
       "      <td>-8</td>\n",
       "      <td>23</td>\n",
       "    </tr>\n",
       "  </tbody>\n",
       "</table>\n",
       "<p>24 rows × 13 columns</p>\n",
       "</div>"
      ],
      "text/plain": [
       "                     Team   W   L    G   GF   GA  WinPct GD_per  GfrPct  Iwin  \\\n",
       "17  Philadelphia Phillies  73  88  161  595  724  45.342   -0.8   45.11    17   \n",
       "13         Detroit Tigers  79  83  162  664  729  48.765   -0.4  47.667    13   \n",
       "3        New York Yankees  93  69  163  684  619  57.055    0.4  52.494     3   \n",
       "..                    ...  ..  ..  ...  ...  ...     ...    ...     ...   ...   \n",
       "22       San Diego Padres  63  99  162  680  793  38.889   -0.7  46.164    22   \n",
       "11          New York Mets  83  79  162  696  631  51.235    0.4  52.449    11   \n",
       "10           Chicago Cubs  84  78  162  810  680  51.852    0.8  54.362    10   \n",
       "\n",
       "    Igfp  Delta  Idel  \n",
       "17    22      5     0  \n",
       "13    16      3     1  \n",
       "3      6      3     1  \n",
       "..   ...    ...   ...  \n",
       "22    19     -3    21  \n",
       "11     7     -4    22  \n",
       "10     2     -8    23  \n",
       "\n",
       "[24 rows x 13 columns]"
      ]
     },
     "metadata": {},
     "output_type": "display_data"
    }
   ],
   "source": [
    "year=1970\n",
    "teams = list(Teams(year))\n",
    "statd = {}\n",
    "    \n",
    "for i,team in enumerate(teams[0:len(teams)]):\n",
    "                    G = team.games\n",
    "                    GF = int(G*team.runs)\n",
    "                    GA = int(G*team.runs_against)\n",
    "                    statd[i] = {'Team' : team.name,\n",
    "                    'W' : team.wins,\n",
    "                    'L' : team.losses,\n",
    "                    'G' : G,\n",
    "                    'WinPct' : round(100*team.wins/G,3),\n",
    "                    'GF' : GF,\n",
    "                    'GA' : GA,\n",
    "                    'GD' : GF-GA,\n",
    "                    'GfrPct' : round(100*GF/(GF+GA),3),\n",
    "                    'GD_per' : round((GF-GA)/G,2)}\n",
    "                    \n",
    "df = pd.DataFrame(statd)\n",
    "df = df.transpose()\n",
    "\n",
    "l = df[['WinPct','GfrPct']].values.tolist()\n",
    "seq = sorted(l, key=lambda x: ((-float(x[0])), (-float(x[1]))))\n",
    "index = [seq.index(v) for v in l]\n",
    "df['Iwin'] =  index\n",
    "\n",
    "l = df[['GD','GfrPct']].values.tolist()\n",
    "seq = sorted(l, key=lambda x: ((-float(x[0])), (-float(x[1]))))\n",
    "index = [seq.index(v) for v in l]\n",
    "df['Igd'] =  index\n",
    "\n",
    "'''\n",
    "x = list(df['GD'])\n",
    "seq = sorted(x,reverse=True)\n",
    "index = [seq.index(v) for v in x]\n",
    "df['Igd'] =  index'\n",
    "'''\n",
    "\n",
    "l = df[['GfrPct','WinPct']].values.tolist()\n",
    "seq = sorted(l, key=lambda x: ((-float(x[0])), (-float(x[1]))))\n",
    "index = [seq.index(v) for v in l]\n",
    "df['Igfp'] =  index\n",
    "\n",
    "'''\n",
    "x = list(df['GfrPct'])\n",
    "seq = sorted(x,reverse=True)\n",
    "index = [seq.index(v) for v in x]\n",
    "df['Igfp'] =  index\n",
    "'''    \n",
    "df['Delta'] = df['Igfp']-df['Iwin']\n",
    "x = list(df['Delta'])\n",
    "seq = sorted(x,reverse=True)\n",
    "index = [seq.index(v) for v in x]\n",
    "df['Idel'] =  index\n",
    "\n",
    "df = df[['Team','W','L','G','GF','GA','WinPct','GD_per','GfrPct','Iwin','Igfp','Delta','Idel']]\n",
    "df = df.sort_values(['WinPct'],ascending = (False))\n",
    "print('%s MLB Season - Ranked by %% Games Won [>LosPct]' % year)\n",
    "with pd.option_context('display.max_rows',6):\n",
    "    display(df)\n",
    "\n",
    "df = df.sort_values('GfrPct',ascending=False)\n",
    "print('\\n%s MLB Season - Ranked by %% Points Scored [<GfrPct]' % year)\n",
    "with pd.option_context('display.max_rows',6):\n",
    "    display(df)\n",
    "\n",
    "df = df.sort_values('Idel',ascending=True)\n",
    "print('\\n%s MLB Season - Ranked by Luck [<Delta (Igfp-Iwin)]' % year)\n",
    "with pd.option_context('display.max_rows',6):\n",
    "    display(df)"
   ]
  },
  {
   "cell_type": "code",
   "execution_count": 12,
   "id": "directed-oracle",
   "metadata": {
    "scrolled": true
   },
   "outputs": [
    {
     "name": "stdout",
     "output_type": "stream",
     "text": [
      "1970: -8 yearly min Delta (-33.33% of possible delta given 24 teams)\n",
      "1970:  5 yearly max Delta ( 20.83% of possible delta given 24 teams)\n",
      "1970  Chicago Cubs: -8 (new minDelta) (new maxDelta)\n",
      "1971: -3 yearly min Delta (-12.5% of possible delta given 24 teams)\n",
      "1971:  5 yearly max Delta ( 20.83% of possible delta given 24 teams)\n",
      "1972: -7 yearly min Delta (-29.17% of possible delta given 24 teams)\n",
      "1972:  7 yearly max Delta ( 29.17% of possible delta given 24 teams)\n",
      "1972  Chicago White Sox: 7 (new max)\n",
      "1973: -6 yearly min Delta (-25.0% of possible delta given 24 teams)\n",
      "1973:  9 yearly max Delta ( 37.5% of possible delta given 24 teams)\n",
      "1973  Detroit Tigers: 9 (new max)\n",
      "1974: -3 yearly min Delta (-12.5% of possible delta given 24 teams)\n",
      "1974:  4 yearly max Delta ( 16.67% of possible delta given 24 teams)\n",
      "1975: -7 yearly min Delta (-29.17% of possible delta given 24 teams)\n",
      "1975:  4 yearly max Delta ( 16.67% of possible delta given 24 teams)\n",
      "1976: -6 yearly min Delta (-25.0% of possible delta given 24 teams)\n",
      "1976:  6 yearly max Delta ( 25.0% of possible delta given 24 teams)\n",
      "1977: -4 yearly min Delta (-15.38% of possible delta given 26 teams)\n",
      "1977:  4 yearly max Delta ( 15.38% of possible delta given 26 teams)\n",
      "1978: -5 yearly min Delta (-19.23% of possible delta given 26 teams)\n",
      "1978:  9 yearly max Delta ( 34.62% of possible delta given 26 teams)\n",
      "1979: -6 yearly min Delta (-23.08% of possible delta given 26 teams)\n",
      "1979:  7 yearly max Delta ( 26.92% of possible delta given 26 teams)\n",
      "1980: -7 yearly min Delta (-26.92% of possible delta given 26 teams)\n",
      "1980:  5 yearly max Delta ( 19.23% of possible delta given 26 teams)\n",
      "1981: -9 yearly min Delta (-34.62% of possible delta given 26 teams)\n",
      "1981:  13 yearly max Delta ( 50.0% of possible delta given 26 teams)\n",
      "1981  Texas Rangers: -9 (new min)\n",
      "1981  Baltimore Orioles: 13 (new max)\n",
      "1982: -8 yearly min Delta (-30.77% of possible delta given 26 teams)\n",
      "1982:  5 yearly max Delta ( 19.23% of possible delta given 26 teams)\n",
      "1983: -8 yearly min Delta (-30.77% of possible delta given 26 teams)\n",
      "1983:  5 yearly max Delta ( 19.23% of possible delta given 26 teams)\n",
      "1984: -14 yearly min Delta (-53.85% of possible delta given 26 teams)\n",
      "1984:  15 yearly max Delta ( 57.69% of possible delta given 26 teams)\n",
      "1984  Pittsburgh Pirates: -14 (new min)\n",
      "1984  New York Mets: 15 (new max)\n",
      "1985: -9 yearly min Delta (-34.62% of possible delta given 26 teams)\n",
      "1985:  6 yearly max Delta ( 23.08% of possible delta given 26 teams)\n",
      "1986: -11 yearly min Delta (-42.31% of possible delta given 26 teams)\n",
      "1986:  6 yearly max Delta ( 23.08% of possible delta given 26 teams)\n",
      "1987: -6 yearly min Delta (-23.08% of possible delta given 26 teams)\n",
      "1987:  6 yearly max Delta ( 23.08% of possible delta given 26 teams)\n",
      "1988: -7 yearly min Delta (-26.92% of possible delta given 26 teams)\n",
      "1988:  7 yearly max Delta ( 26.92% of possible delta given 26 teams)\n",
      "1989: -5 yearly min Delta (-19.23% of possible delta given 26 teams)\n",
      "1989:  7 yearly max Delta ( 26.92% of possible delta given 26 teams)\n",
      "1990: -7 yearly min Delta (-26.92% of possible delta given 26 teams)\n",
      "1990:  5 yearly max Delta ( 19.23% of possible delta given 26 teams)\n",
      "1991: -6 yearly min Delta (-23.08% of possible delta given 26 teams)\n",
      "1991:  6 yearly max Delta ( 23.08% of possible delta given 26 teams)\n",
      "1992: -9 yearly min Delta (-34.62% of possible delta given 26 teams)\n",
      "1992:  5 yearly max Delta ( 19.23% of possible delta given 26 teams)\n",
      "1993: -7 yearly min Delta (-25.0% of possible delta given 28 teams)\n",
      "1993:  5 yearly max Delta ( 17.86% of possible delta given 28 teams)\n",
      "1994: -9 yearly min Delta (-32.14% of possible delta given 28 teams)\n",
      "1994:  11 yearly max Delta ( 39.29% of possible delta given 28 teams)\n",
      "1995: -7 yearly min Delta (-25.0% of possible delta given 28 teams)\n",
      "1995:  9 yearly max Delta ( 32.14% of possible delta given 28 teams)\n",
      "1996: -6 yearly min Delta (-21.43% of possible delta given 28 teams)\n",
      "1996:  8 yearly max Delta ( 28.57% of possible delta given 28 teams)\n",
      "1997: -7 yearly min Delta (-25.0% of possible delta given 28 teams)\n",
      "1997:  8 yearly max Delta ( 28.57% of possible delta given 28 teams)\n",
      "1998: -5 yearly min Delta (-16.67% of possible delta given 30 teams)\n",
      "1998:  7 yearly max Delta ( 23.33% of possible delta given 30 teams)\n",
      "1999: -9 yearly min Delta (-30.0% of possible delta given 30 teams)\n",
      "1999:  5 yearly max Delta ( 16.67% of possible delta given 30 teams)\n",
      "2000: -7 yearly min Delta (-23.33% of possible delta given 30 teams)\n",
      "2000:  5 yearly max Delta ( 16.67% of possible delta given 30 teams)\n",
      "2001: -5 yearly min Delta (-16.67% of possible delta given 30 teams)\n",
      "2001:  7 yearly max Delta ( 23.33% of possible delta given 30 teams)\n",
      "2002: -6 yearly min Delta (-20.0% of possible delta given 30 teams)\n",
      "2002:  5 yearly max Delta ( 16.67% of possible delta given 30 teams)\n",
      "2003: -6 yearly min Delta (-20.0% of possible delta given 30 teams)\n",
      "2003:  7 yearly max Delta ( 23.33% of possible delta given 30 teams)\n",
      "2004: -7 yearly min Delta (-23.33% of possible delta given 30 teams)\n",
      "2004:  9 yearly max Delta ( 30.0% of possible delta given 30 teams)\n",
      "2005: -8 yearly min Delta (-26.67% of possible delta given 30 teams)\n",
      "2005:  8 yearly max Delta ( 26.67% of possible delta given 30 teams)\n",
      "2006: -13 yearly min Delta (-43.33% of possible delta given 30 teams)\n",
      "2006:  6 yearly max Delta ( 20.0% of possible delta given 30 teams)\n",
      "2007: -6 yearly min Delta (-20.0% of possible delta given 30 teams)\n",
      "2007:  12 yearly max Delta ( 40.0% of possible delta given 30 teams)\n",
      "2008: -7 yearly min Delta (-23.33% of possible delta given 30 teams)\n",
      "2008:  8 yearly max Delta ( 26.67% of possible delta given 30 teams)\n",
      "2009: -5 yearly min Delta (-16.67% of possible delta given 30 teams)\n",
      "2009:  7 yearly max Delta ( 23.33% of possible delta given 30 teams)\n",
      "2010: -3 yearly min Delta (-10.0% of possible delta given 30 teams)\n",
      "2010:  4 yearly max Delta ( 13.33% of possible delta given 30 teams)\n",
      "2011: -9 yearly min Delta (-30.0% of possible delta given 30 teams)\n",
      "2011:  6 yearly max Delta ( 20.0% of possible delta given 30 teams)\n",
      "2012: -7 yearly min Delta (-23.33% of possible delta given 30 teams)\n",
      "2012:  8 yearly max Delta ( 26.67% of possible delta given 30 teams)\n",
      "2013: -5 yearly min Delta (-16.67% of possible delta given 30 teams)\n",
      "2013:  5 yearly max Delta ( 16.67% of possible delta given 30 teams)\n",
      "2014: -8 yearly min Delta (-26.67% of possible delta given 30 teams)\n",
      "2014:  6 yearly max Delta ( 20.0% of possible delta given 30 teams)\n",
      "2015: -7 yearly min Delta (-23.33% of possible delta given 30 teams)\n",
      "2015:  8 yearly max Delta ( 26.67% of possible delta given 30 teams)\n",
      "2016: -5 yearly min Delta (-16.67% of possible delta given 30 teams)\n",
      "2016:  11 yearly max Delta ( 36.67% of possible delta given 30 teams)\n",
      "2017: -7 yearly min Delta (-23.33% of possible delta given 30 teams)\n",
      "2017:  9 yearly max Delta ( 30.0% of possible delta given 30 teams)\n",
      "2018: -5 yearly min Delta (-16.67% of possible delta given 30 teams)\n",
      "2018:  6 yearly max Delta ( 20.0% of possible delta given 30 teams)\n",
      "2019: -7 yearly min Delta (-23.33% of possible delta given 30 teams)\n",
      "2019:  5 yearly max Delta ( 16.67% of possible delta given 30 teams)\n",
      "2020: -6 yearly min Delta (-20.0% of possible delta given 30 teams)\n",
      "2020:  10 yearly max Delta ( 33.33% of possible delta given 30 teams)\n"
     ]
    }
   ],
   "source": [
    "minDelta = 0\n",
    "maxDelta = 0\n",
    "deltaList = []\n",
    "dlpctList = []\n",
    "dlptfList = []\n",
    "dlpttList = []\n",
    "for year in range(1970, 2021):\n",
    "    teams = list(Teams(year))\n",
    "    statd = {}\n",
    "    for i,team in enumerate(teams[0:len(teams)]):\n",
    "        G = team.games\n",
    "        GF = int(G*team.runs)\n",
    "        GA = int(G*team.runs_against)\n",
    "        statd[i] = {'Team' : team.name,\n",
    "                    'WinPct' : round(100*team.wins/G,3),\n",
    "                    'GfrPct' : round(100*GF/(GF+GA),3)}\n",
    "        \n",
    "    df = pd.DataFrame(statd)\n",
    "    df = df.transpose()\n",
    "\n",
    "    l = df[['WinPct','GfrPct']].values.tolist()\n",
    "    seq = sorted(l, key=lambda x: ((-float(x[0])), (-float(x[1]))))\n",
    "    index = [seq.index(v) for v in l]\n",
    "    df['Iwin'] =  index\n",
    "\n",
    "    l = df[['GfrPct','WinPct']].values.tolist()\n",
    "    seq = sorted(l, key=lambda x: ((-float(x[0])), (-float(x[1]))))\n",
    "    index = [seq.index(v) for v in l]\n",
    "    df['Igfp'] =  index\n",
    "\n",
    "    df['Delta'] = df['Igfp']-df['Iwin']\n",
    "    x = list(df['Delta'])\n",
    "    \n",
    "    locMinDelta = int(min(df['Delta']))\n",
    "    locMinTeam = df.Team[df['Delta'] == locMinDelta]\n",
    "    locMinTeam = locMinTeam.to_string(index=False)\n",
    "    locMaxDelta = int(max(df['Delta']))\n",
    "    locMaxTeam = df.Team[df['Delta'] == locMaxDelta]\n",
    "    locMaxTeam = locMaxTeam.to_string(index=False)\n",
    "    \n",
    "    print('%s: %s yearly min Delta (%s%% of possible delta given %s teams)' % (year,locMinDelta,round(100*locMinDelta/len(x),2),len(x)))\n",
    "    print('%s:  %s yearly max Delta ( %s%% of possible delta given %s teams)' % (year,locMaxDelta,round(100*locMaxDelta/len(x),2),len(x)))\n",
    "    \n",
    "    if maxDelta == minDelta:\n",
    "        minDelta = locMinDelta\n",
    "        maxDelta = locMaxDelta\n",
    "        minTeam = locMinTeam\n",
    "        maxTeam = locMaxTeam\n",
    "        minYear = year\n",
    "        maxYear = year\n",
    "        print('%s %s: %s (new minDelta) (new maxDelta)' % (year,locMinTeam,round(minDelta,3)))\n",
    "    if locMinDelta < minDelta:\n",
    "        minDelta= locMinDelta\n",
    "        minTeam = locMinTeam\n",
    "        minYear = year\n",
    "        print('%s %s: %s (new min)' % (year,locMinTeam,round(minDelta,3)))\n",
    "    if locMaxDelta > maxDelta:\n",
    "        maxDelta = locMaxDelta\n",
    "        maxTeam = locMaxTeam\n",
    "        maxYear = year\n",
    "        print('%s %s: %s (new max)' % (year,locMaxTeam,round(maxDelta,3)))\n",
    "    \n",
    "    for d in x:\n",
    "        deltaList.append(d) #nominal delta\n",
    "        dp = round(d/len(x),2)  #normalized between -1,1 of # teams \n",
    "        dpf = 5*(int(round(100*(d)/(len(x)-1),0))//5) #bucketed to 5% \n",
    "        dpt = 10*(int(round(100*(d)/(len(x)-1),0))//10) #bucketed to 10%\n",
    "        dlpctList.append(dp)\n",
    "        dlptfList.append(dpf)\n",
    "        dlpttList.append(dpt)"
   ]
  },
  {
   "cell_type": "code",
   "execution_count": 2,
   "id": "destroyed-council",
   "metadata": {},
   "outputs": [],
   "source": [
    "teamcList = []\n",
    "for year in range(1970, 2021):\n",
    "    teams = list(Teams(year))\n",
    "    statd = {}\n",
    "    for i in range(len(teams)):\n",
    "        teamcList.append(len(teams))"
   ]
  },
  {
   "cell_type": "code",
   "execution_count": null,
   "id": "wooden-helping",
   "metadata": {},
   "outputs": [],
   "source": [
    "'''\n",
    "deltaList=sorted(deltaList,reverse=False)\n",
    "=sorted(dlpctList,reverse=False)\n",
    "dlptfList=sorted(dlptfList,reverse=False)\n",
    "dlpttList=sorted(dlpttList,reverse=False)\n",
    "'''"
   ]
  },
  {
   "cell_type": "code",
   "execution_count": 14,
   "id": "agricultural-devices",
   "metadata": {},
   "outputs": [
    {
     "data": {
      "text/plain": [
       "[0.0, 0.08, -0.04, 0.12, 0.12, 0.0, -0.04, 0.08, 0.08, 0.08]"
      ]
     },
     "execution_count": 14,
     "metadata": {},
     "output_type": "execute_result"
    }
   ],
   "source": [
    "dlpctList[:10]"
   ]
  },
  {
   "cell_type": "code",
   "execution_count": 16,
   "id": "binary-speaker",
   "metadata": {},
   "outputs": [],
   "source": [
    "import pickle\n",
    "with open('teamcMLB.data', 'wb') as filehandle:\n",
    "    pickle.dump(teamcList, filehandle)"
   ]
  },
  {
   "cell_type": "code",
   "execution_count": 15,
   "id": "subtle-range",
   "metadata": {},
   "outputs": [],
   "source": [
    "import pickle\n",
    "with open('deltaMLB.data', 'wb') as filehandle:\n",
    "    pickle.dump(deltaList, filehandle)\n",
    "with open('dlpctMLB.data', 'wb') as filehandle:\n",
    "    pickle.dump(dlpctList, filehandle)"
   ]
  },
  {
   "cell_type": "code",
   "execution_count": 266,
   "id": "martial-footwear",
   "metadata": {},
   "outputs": [
    {
     "name": "stdout",
     "output_type": "stream",
     "text": [
      "nominal delta distribution:\n",
      "max: 15\n",
      "min: -14\n",
      "median: 0.0\n",
      "mean: 0\n",
      "mode: 0\n",
      "pstdev: 3.1342\n",
      "pvariance: 9.8232\n",
      "skew: 0.06\n",
      "kurtosis-3: -1.311\n",
      "quartiles(excl): [-2.0, 0.0, 2.0]\n",
      "deciles(excl): [-4.0, -2.0, -1.0, -1.0, 0.0, 1.0, 1.0, 2.0, 4.0]\n",
      "count: 1414\n"
     ]
    }
   ],
   "source": [
    "print('nominal delta distribution:')\n",
    "print('max: ' + str(max(deltaList)))\n",
    "print('min: ' + str(min(deltaList)))\n",
    "print('median: ' + str(statistics.median(deltaList)))\n",
    "print('mean: ' + str(round(statistics.mean(deltaList),4)))\n",
    "print('mode: ' + str(statistics.mode(deltaList)))\n",
    "print('pstdev: ' + str(round(statistics.pstdev(deltaList),4)))\n",
    "print('pvariance: ' + str(round(statistics.pvariance(deltaList),4)))\n",
    "print('skew: ' + str(round(skew(deltaList,bias=False),2)))\n",
    "print('kurtosis-3: ' + str(round(kurtosis(deltaList,bias=False)-3,4)))\n",
    "\n",
    "quartiles=[round(q, 2) for q in statistics.quantiles(deltaList, n=4)]\n",
    "print('quartiles(excl): '+ str(quartiles))\n",
    "deciles=[round(q, 2) for q in statistics.quantiles(deltaList, n=10)]\n",
    "print('deciles(excl): '+ str(deciles))\n",
    "print('count: ' + str(len(deltaList)))"
   ]
  },
  {
   "cell_type": "code",
   "execution_count": 267,
   "id": "interpreted-question",
   "metadata": {},
   "outputs": [
    {
     "name": "stdout",
     "output_type": "stream",
     "text": [
      "normalized delta distribution:\n",
      "max: 0.58\n",
      "min: -0.54\n",
      "median: 0.0\n",
      "mean: -0.0\n",
      "mode: 0.0\n",
      "pstdev: 0.1134\n",
      "pvariance: 0.0129\n",
      "skew: 0.04\n",
      "kurtosis-3: -1.1011\n",
      "quartiles(excl): [-0.07, 0.0, 0.07]\n",
      "deciles(excl): [-0.13, -0.08, -0.04, -0.03, 0.0, 0.03, 0.04, 0.08, 0.13]\n",
      "count: 1414\n"
     ]
    }
   ],
   "source": [
    "print('normalized delta distribution:')\n",
    "print('max: ' + str(max(dlpctList)))\n",
    "print('min: ' + str(min(dlpctList)))\n",
    "print('median: ' + str(statistics.median(dlpctList)))\n",
    "print('mean: ' + str(round(statistics.mean(dlpctList),4)))\n",
    "print('mode: ' + str(statistics.mode(dlpctList)))\n",
    "print('pstdev: ' + str(round(statistics.pstdev(dlpctList),4)))\n",
    "print('pvariance: ' + str(round(statistics.pvariance(dlpctList),4)))\n",
    "print('skew: ' + str(round(skew(dlpctList,bias=False),2)))\n",
    "print('kurtosis-3: ' + str(round(kurtosis(dlpctList,bias=False)-3,4)))\n",
    "\n",
    "quartiles=[round(q, 2) for q in statistics.quantiles(dlpctList, n=4)]\n",
    "print('quartiles(excl): '+ str(quartiles))\n",
    "deciles=[round(q, 2) for q in statistics.quantiles(dlpctList, n=10)]\n",
    "print('deciles(excl): '+ str(deciles))\n",
    "print('count: ' + str(len(dlpctList)))"
   ]
  },
  {
   "cell_type": "code",
   "execution_count": 269,
   "id": "relevant-serve",
   "metadata": {},
   "outputs": [
    {
     "name": "stdout",
     "output_type": "stream",
     "text": [
      "5% buckets distribution:\n",
      "max: 60\n",
      "min: -60\n",
      "median: 0.0\n",
      "mean: -1.8105\n",
      "mode: 0\n",
      "pstdev: 11.7739\n",
      "pvariance: 138.6246\n",
      "skew: -0.03\n",
      "kurtosis-3: -0.909\n",
      "quartiles(excl): [-10.0, 0.0, 5.0]\n",
      "deciles(excl): [-15.0, -10.0, -5.0, -5.0, 0.0, 0.0, 0.0, 5.0, 10.0]\n",
      "count: 1414\n"
     ]
    }
   ],
   "source": [
    "print('5% buckets distribution:')\n",
    "print('max: ' + str(max(dlptfList)))\n",
    "print('min: ' + str(min(dlptfList)))\n",
    "print('median: ' + str(statistics.median(dlptfList)))\n",
    "print('mean: ' + str(round(statistics.mean(dlptfList),4)))\n",
    "print('mode: ' + str(statistics.mode(dlptfList)))\n",
    "print('pstdev: ' + str(round(statistics.pstdev(dlptfList),4)))\n",
    "print('pvariance: ' + str(round(statistics.pvariance(dlptfList),4)))\n",
    "print('skew: ' + str(round(skew(dlptfList,bias=False),2)))\n",
    "print('kurtosis-3: ' + str(round(kurtosis(dlptfList,bias=False)-3,4)))\n",
    "\n",
    "quartiles=[round(q, 2) for q in statistics.quantiles(dlptfList, n=4)]\n",
    "print('quartiles(excl): '+ str(quartiles))\n",
    "deciles=[round(q, 2) for q in statistics.quantiles(dlptfList, n=10)]\n",
    "print('deciles(excl): '+ str(deciles))\n",
    "print('count: ' + str(len(dlptfList)))"
   ]
  },
  {
   "cell_type": "code",
   "execution_count": 270,
   "id": "artificial-assessment",
   "metadata": {},
   "outputs": [
    {
     "name": "stdout",
     "output_type": "stream",
     "text": [
      "10% buckets distribution:\n",
      "max: 60\n",
      "min: -60\n",
      "median: 0.0\n",
      "mean: -3.6563\n",
      "mode: 0\n",
      "pstdev: 12.1109\n",
      "pvariance: 146.6739\n",
      "skew: -0.1\n",
      "kurtosis-3: -1.0757\n",
      "quartiles(excl): [-10.0, 0.0, 0.0]\n",
      "deciles(excl): [-20.0, -10.0, -10.0, -10.0, 0.0, 0.0, 0.0, 0.0, 10.0]\n",
      "count: 1414\n"
     ]
    }
   ],
   "source": [
    "print('10% buckets distribution:')\n",
    "print('max: ' + str(max(dlpttList)))\n",
    "print('min: ' + str(min(dlpttList)))\n",
    "print('median: ' + str(statistics.median(dlpttList)))\n",
    "print('mean: ' + str(round(statistics.mean(dlpttList),4)))\n",
    "print('mode: ' + str(statistics.mode(dlpttList)))\n",
    "print('pstdev: ' + str(round(statistics.pstdev(dlpttList),4)))\n",
    "print('pvariance: ' + str(round(statistics.pvariance(dlpttList),4)))\n",
    "print('skew: ' + str(round(skew(dlpttList,bias=False),2)))\n",
    "print('kurtosis-3: ' + str(round(kurtosis(dlpttList,bias=False)-3,4)))\n",
    "\n",
    "quartiles=[round(q, 2) for q in statistics.quantiles(dlpttList, n=4)]\n",
    "print('quartiles(excl): '+ str(quartiles))\n",
    "deciles=[round(q, 2) for q in statistics.quantiles(dlpttList, n=10)]\n",
    "print('deciles(excl): '+ str(deciles))\n",
    "print('count: ' + str(len(dlpttList)))"
   ]
  },
  {
   "cell_type": "code",
   "execution_count": 290,
   "id": "stuffed-adaptation",
   "metadata": {},
   "outputs": [
    {
     "data": {
      "image/png": "[encoded data removed]",
      "text/plain": [
       "<Figure size 720x432 with 1 Axes>"
      ]
     },
     "metadata": {
      "needs_background": "light"
     },
     "output_type": "display_data"
    }
   ],
   "source": [
    "counter=collections.Counter(deltaList)\n",
    "dely = list(counter.values())\n",
    "delx = list(counter.keys())\n",
    "fig, ax = plt.subplots(figsize=(10, 6))\n",
    "ax.bar(delx,dely)\n",
    "plt.show()"
   ]
  },
  {
   "cell_type": "code",
   "execution_count": 150,
   "id": "willing-centre",
   "metadata": {},
   "outputs": [
    {
     "data": {
      "image/png": "[encoded data removed]",
      "text/plain": [
       "<Figure size 720x432 with 1 Axes>"
      ]
     },
     "metadata": {
      "needs_background": "light"
     },
     "output_type": "display_data"
    }
   ],
   "source": [
    "df_freq=pd.DataFrame(list(zip(delx,dely)),columns=['delta','freq'])\n",
    "df_freq['pct'] = round(100.0*df_freq['freq']/sum(list(df_freq['freq'])),2)\n",
    "delp = list(df_freq['pct'])\n",
    "fig, ax = plt.subplots(figsize=(10, 6))\n",
    "ax.bar(delx,delp)\n",
    "plt.xlim([-15, 15])\n",
    "plt.ylim([0, 33])\n",
    "plt.show()"
   ]
  },
  {
   "cell_type": "code",
   "execution_count": 151,
   "id": "intensive-temple",
   "metadata": {},
   "outputs": [
    {
     "data": {
      "image/png": "[encoded data removed]",
      "text/plain": [
       "<Figure size 720x432 with 1 Axes>"
      ]
     },
     "metadata": {
      "needs_background": "light"
     },
     "output_type": "display_data"
    }
   ],
   "source": [
    "from scipy.interpolate import make_interp_spline, BSpline\n",
    "import numpy as np\n",
    "\n",
    "#define x as 200 equally spaced values between the min and max of original x \n",
    "xnew = np.linspace(min(delx), max(delx), 500) \n",
    "\n",
    "#define spline\n",
    "spl = make_interp_spline(delx, delp, k=3)\n",
    "y_smooth = spl(xnew)\n",
    "\n",
    "#create smooth line chart\n",
    "fig, ax = plt.subplots(figsize=(10, 6))\n",
    "plt.plot(xnew, y_smooth)\n",
    "plt.xlim([-15, 15])\n",
    "plt.ylim([0, 33])\n",
    "plt.show()"
   ]
  },
  {
   "cell_type": "code",
   "execution_count": 275,
   "id": "stunning-contrary",
   "metadata": {},
   "outputs": [
    {
     "data": {
      "image/png": "[encoded data removed]",
      "text/plain": [
       "<Figure size 720x432 with 1 Axes>"
      ]
     },
     "metadata": {
      "needs_background": "light"
     },
     "output_type": "display_data"
    }
   ],
   "source": [
    "counter=collections.Counter(dlpctList)\n",
    "dlpy = list(counter.values())\n",
    "dlpx = list(counter.keys())\n",
    "fig, ax = plt.subplots(figsize=(10, 6))\n",
    "ax.plot(dlpx,dlpy)\n",
    "plt.show()"
   ]
  },
  {
   "cell_type": "code",
   "execution_count": 292,
   "id": "olympic-campaign",
   "metadata": {},
   "outputs": [
    {
     "data": {
      "image/png": "[encoded data removed]",
      "text/plain": [
       "<Figure size 720x432 with 1 Axes>"
      ]
     },
     "metadata": {
      "needs_background": "light"
     },
     "output_type": "display_data"
    }
   ],
   "source": [
    "counter=collections.Counter(dlpctList)\n",
    "dlpy = list(counter.values())\n",
    "dlpx = list(counter.keys())\n",
    "\n",
    "df_freq=pd.DataFrame(list(zip(dlpx,dlpy)),columns=['dlpct','freq'])\n",
    "df_freq['pct'] = round(100.0*df_freq['freq']/sum(list(df_freq['freq'])),2)\n",
    "dlpp = list(df_freq['pct'])\n",
    "\n",
    "#define x as 200 equally spaced values between the min and max of original x \n",
    "xnew = np.linspace(min(dlpx), max(dlpx), 1000) \n",
    "\n",
    "#define spline\n",
    "spl = make_interp_spline(dlpx, dlpp, k=3)\n",
    "y_smooth = spl(xnew)\n",
    "\n",
    "#create smooth line chart`\n",
    "fig, ax = plt.subplots(figsize=(10, 6))\n",
    "plt.plot(xnew, y_smooth)\n",
    " \n",
    "plt.show()"
   ]
  },
  {
   "cell_type": "code",
   "execution_count": 153,
   "id": "engaging-roots",
   "metadata": {},
   "outputs": [
    {
     "data": {
      "image/png": "[encoded data removed]",
      "text/plain": [
       "<Figure size 720x432 with 1 Axes>"
      ]
     },
     "metadata": {
      "needs_background": "light"
     },
     "output_type": "display_data"
    }
   ],
   "source": [
    "counter=collections.Counter(dlpttList)\n",
    "dpty = list(counter.values())\n",
    "dptx = list(counter.keys())\n",
    "\n",
    "df_freq=pd.DataFrame(list(zip(dptx,dpty)),columns=['dlptt','freq'])\n",
    "df_freq['pct'] = round(100.0*df_freq['freq']/sum(list(df_freq['freq'])),2)\n",
    "dlpt = list(df_freq['pct'])\n",
    "\n",
    "#define x as 200 equally spaced values between the min and max of original x \n",
    "xnew = np.linspace(min(dptx), max(dptx), 500) \n",
    "\n",
    "#define spline\n",
    "spl = make_interp_spline(dptx, dlpt, k=3)\n",
    "y_smooth = spl(xnew)\n",
    "\n",
    "#create smooth line chart`\n",
    "fig, ax = plt.subplots(figsize=(10, 6))\n",
    "plt.plot(xnew, y_smooth)\n",
    "plt.xlim([-60, 60])\n",
    "plt.ylim([0, 55])\n",
    "plt.show()"
   ]
  },
  {
   "cell_type": "code",
   "execution_count": 154,
   "id": "experimental-workplace",
   "metadata": {},
   "outputs": [
    {
     "data": {
      "text/plain": [
       "<function matplotlib.pyplot.show(close=None, block=None)>"
      ]
     },
     "execution_count": 154,
     "metadata": {},
     "output_type": "execute_result"
    },
    {
     "data": {
      "image/png": "[encoded data removed]",
      "text/plain": [
       "<Figure size 720x432 with 1 Axes>"
      ]
     },
     "metadata": {
      "needs_background": "light"
     },
     "output_type": "display_data"
    }
   ],
   "source": [
    "mu = round(statistics.mean(deltaList),2) # mean of distribution\n",
    "sigma = round(statistics.pstdev(deltaList),2) # standard deviation of distribution\n",
    "x = deltaList\n",
    "\n",
    "num_bins = max(deltaList)-min(deltaList)\n",
    "fig, ax = plt.subplots(figsize=(10, 6))\n",
    "\n",
    "n, bins, patches = plt.hist(x, num_bins, density=True, weights=np.ones(len(x)), facecolor='blue', alpha=0.8)\n",
    "\n",
    "# add a 'best fit' line\n",
    "y = norm.pdf(bins, mu, sigma)\n",
    "plt.plot(bins, y, 'r--')\n",
    "plt.gca().yaxis.set_major_formatter(PercentFormatter(1))\n",
    "plt.xlabel('Delta (Rank[Score%] - Rank[Win%])')\n",
    "plt.ylabel('Probability')\n",
    "plt.title(r'Histogram of Team Rank Displacement: $\\mu=%s$, $\\sigma=%s$' % (mu,sigma))\n",
    "\n",
    "plt.show"
   ]
  },
  {
   "cell_type": "code",
   "execution_count": 155,
   "id": "threaded-livestock",
   "metadata": {},
   "outputs": [
    {
     "data": {
      "text/plain": [
       "(array([0.00070721, 0.00070721, 0.        , 0.00070721, 0.00070721,\n",
       "        0.00424328, 0.0049505 , 0.01697313, 0.01697313, 0.02687412,\n",
       "        0.03677511, 0.06435644, 0.09476662, 0.13790665, 0.18458274,\n",
       "        0.14144272, 0.09618105, 0.05657709, 0.04596888, 0.02687412,\n",
       "        0.01768034, 0.00990099, 0.0049505 , 0.00424328, 0.00070721,\n",
       "        0.00141443, 0.00141443, 0.00070721, 0.00070721]),\n",
       " array([-14., -13., -12., -11., -10.,  -9.,  -8.,  -7.,  -6.,  -5.,  -4.,\n",
       "         -3.,  -2.,  -1.,   0.,   1.,   2.,   3.,   4.,   5.,   6.,   7.,\n",
       "          8.,   9.,  10.,  11.,  12.,  13.,  14.,  15.]),\n",
       " <BarContainer object of 29 artists>)"
      ]
     },
     "execution_count": 155,
     "metadata": {},
     "output_type": "execute_result"
    }
   ],
   "source": [
    "n, bins, patches"
   ]
  },
  {
   "cell_type": "code",
   "execution_count": 156,
   "id": "unnecessary-cabinet",
   "metadata": {},
   "outputs": [
    {
     "data": {
      "text/plain": [
       "48"
      ]
     },
     "execution_count": 156,
     "metadata": {},
     "output_type": "execute_result"
    }
   ],
   "source": [
    "int(len(x)/num_bins)"
   ]
  },
  {
   "cell_type": "code",
   "execution_count": 297,
   "id": "prescription-camcorder",
   "metadata": {},
   "outputs": [
    {
     "data": {
      "text/plain": [
       "<function matplotlib.pyplot.show(close=None, block=None)>"
      ]
     },
     "execution_count": 297,
     "metadata": {},
     "output_type": "execute_result"
    },
    {
     "data": {
      "image/png": "[encoded data removed]",
      "text/plain": [
       "<Figure size 720x432 with 1 Axes>"
      ]
     },
     "metadata": {
      "needs_background": "light"
     },
     "output_type": "display_data"
    }
   ],
   "source": [
    "mu = round(statistics.mean(dlpttList),2) # mean of distribution\n",
    "sigma = round(statistics.pstdev(dlpttList),2) # standard deviation of distribution\n",
    "x = dlpttList\n",
    "\n",
    "num_bins = 1+((max(x)-min(x))//10)\n",
    "fig, ax = plt.subplots(figsize=(10, 6))\n",
    "\n",
    "n, bins, patches = plt.hist(x, num_bins, density=True,facecolor='blue',weights=np.ones(len(x)),alpha=0.8)\n",
    "\n",
    "# add a 'best fit' line\n",
    "y = norm.pdf(bins, mu, sigma)\n",
    "\n",
    "plt.plot(bins, y, 'r--')\n",
    "#plt.gca().yaxis.set_major_formatter(PercentFormatter(4/18.6))\n",
    "plt.gca().yaxis.set_major_formatter(PercentFormatter(1/(100/10)))\n",
    "plt.xlabel('10% Delta (Rank[Score%] - Rank[Win%]/NumTeams)')\n",
    "plt.ylabel('Probability')\n",
    "plt.title(r'Histogram of Team Rank Displacement (10%% buckets): $\\mu=%s$, $\\sigma=%s$' % (mu,sigma))\n",
    "\n",
    "plt.show"
   ]
  },
  {
   "cell_type": "code",
   "execution_count": 344,
   "id": "intellectual-scratch",
   "metadata": {},
   "outputs": [
    {
     "data": {
      "text/plain": [
       "59"
      ]
     },
     "execution_count": 344,
     "metadata": {},
     "output_type": "execute_result"
    }
   ],
   "source": [
    "len(set(dlpctList))"
   ]
  },
  {
   "cell_type": "code",
   "execution_count": 220,
   "id": "coordinate-coating",
   "metadata": {},
   "outputs": [
    {
     "data": {
      "text/plain": [
       "120"
      ]
     },
     "execution_count": 220,
     "metadata": {},
     "output_type": "execute_result"
    }
   ],
   "source": [
    "(2*max([max(dlpctList),-min(dlpctList)]))"
   ]
  },
  {
   "cell_type": "code",
   "execution_count": 223,
   "id": "separated-prompt",
   "metadata": {},
   "outputs": [
    {
     "data": {
      "text/plain": [
       "2.0"
      ]
     },
     "execution_count": 223,
     "metadata": {},
     "output_type": "execute_result"
    }
   ],
   "source": [
    "round(120/61,0)"
   ]
  },
  {
   "cell_type": "code",
   "execution_count": 319,
   "id": "copyrighted-memory",
   "metadata": {},
   "outputs": [
    {
     "data": {
      "text/plain": [
       "<function matplotlib.pyplot.show(close=None, block=None)>"
      ]
     },
     "execution_count": 319,
     "metadata": {},
     "output_type": "execute_result"
    },
    {
     "data": {
      "image/png": "[encoded data removed]",
      "text/plain": [
       "<Figure size 720x432 with 1 Axes>"
      ]
     },
     "metadata": {
      "needs_background": "light"
     },
     "output_type": "display_data"
    }
   ],
   "source": [
    "mu = round(statistics.mean(dapx),2) # mean of distribution\n",
    "sigma = round(statistics.pstdev(dapx),2) # standard deviation of distribution\n",
    "x = dapx\n",
    "\n",
    "num_bins = 12\n",
    "#num_bins = 1+((max(x)-min(x))//5)\n",
    "fig, ax = plt.subplots(figsize=(10, 6))\n",
    "\n",
    "n, bins, patches = plt.hist(x,bins='auto', facecolor='blue', alpha=0.8)\n",
    "\n",
    "# add a 'best fit' line\n",
    "y = norm.pdf(bins, mu, sigma)\n",
    "plt.plot(bins, y, 'r--')\n",
    "plt.gca().yaxis.set_major_formatter(PercentFormatter(1))\n",
    "#lt.gca().yaxis.set_major_formatter(PercentFormatter(1/(100/20)))\n",
    "plt.xlabel('5% Delta (Rank[Score%] - Rank[Win%]/NumTeams)')\n",
    "plt.ylabel('Probability')\n",
    "plt.title(r'Histogram of Team Rank Displacement (5%% buckets): $\\mu=%s$, $\\sigma=%s$' % (mu,sigma))\n",
    "\n",
    "plt.show"
   ]
  },
  {
   "cell_type": "code",
   "execution_count": 313,
   "id": "statutory-albania",
   "metadata": {},
   "outputs": [
    {
     "data": {
      "text/plain": [
       "<function matplotlib.pyplot.show(close=None, block=None)>"
      ]
     },
     "execution_count": 313,
     "metadata": {},
     "output_type": "execute_result"
    },
    {
     "data": {
      "image/png": "[encoded data removed]",
      "text/plain": [
       "<Figure size 720x432 with 1 Axes>"
      ]
     },
     "metadata": {
      "needs_background": "light"
     },
     "output_type": "display_data"
    }
   ],
   "source": [
    "mu = round(statistics.mean(dlpctList),2) # mean of distribution\n",
    "sigma = round(statistics.pstdev(dlpctList),2) # standard deviation of distribution\n",
    "x = dlpctList\n",
    "\n",
    "num_bins = 42\n",
    "#num_bins = ((max(x)-min(x)))\n",
    "fig, ax = plt.subplots(figsize=(10, 6))\n",
    "\n",
    "n, bins, patches = plt.hist(x, num_bins, density=True, facecolor='blue', alpha=0.8)\n",
    "\n",
    "# add a 'best fit' line\n",
    "y = norm.pdf(bins, mu, sigma)\n",
    "plt.plot(bins, y, 'r--')\n",
    "#plt.gca().yaxis.set_major_formatter(PercentFormatter(1))\n",
    "#lt.gca().yaxis.set_major_formatter(PercentFormatter(1/(100/20)))\n",
    "plt.xlabel('5% Delta (Rank[Score%] - Rank[Win%]/NumTeams)')\n",
    "plt.ylabel('Probability')\n",
    "plt.title(r'Histogram of Team Rank Displacement (5%% buckets): $\\mu=%s$, $\\sigma=%s$' % (mu,sigma))\n",
    "\n",
    "plt.show"
   ]
  },
  {
   "cell_type": "code",
   "execution_count": 309,
   "id": "tribal-concord",
   "metadata": {},
   "outputs": [
    {
     "data": {
      "text/plain": [
       "<BarContainer object of 59 artists>"
      ]
     },
     "execution_count": 309,
     "metadata": {},
     "output_type": "execute_result"
    },
    {
     "data": {
      "image/png": "[encoded data removed]",
      "text/plain": [
       "<Figure size 432x288 with 1 Axes>"
      ]
     },
     "metadata": {
      "needs_background": "light"
     },
     "output_type": "display_data"
    }
   ],
   "source": [
    "\n",
    "plt.bar(dlpx,dlpp)"
   ]
  },
  {
   "cell_type": "code",
   "execution_count": 310,
   "id": "solved-macintosh",
   "metadata": {},
   "outputs": [
    {
     "data": {
      "text/plain": [
       "<BarContainer object of 10 artists>"
      ]
     },
     "execution_count": 310,
     "metadata": {},
     "output_type": "execute_result"
    },
    {
     "data": {
      "image/png": "[encoded data removed]",
      "text/plain": [
       "<Figure size 432x288 with 1 Axes>"
      ]
     },
     "metadata": {
      "needs_background": "light"
     },
     "output_type": "display_data"
    }
   ],
   "source": [
    "results, edges = np.histogram(dlpctList, density=True)\n",
    "binWidth = edges[1] - edges[0]\n",
    "plt.bar(edges[:-1], results*binWidth, binWidth)"
   ]
  },
  {
   "cell_type": "code",
   "execution_count": 345,
   "id": "complex-determination",
   "metadata": {},
   "outputs": [
    {
     "data": {
      "text/plain": [
       "2.488888888888889"
      ]
     },
     "execution_count": 345,
     "metadata": {},
     "output_type": "execute_result"
    }
   ],
   "source": [
    "100/sum(nx)"
   ]
  },
  {
   "cell_type": "code",
   "execution_count": 364,
   "id": "hourly-madonna",
   "metadata": {},
   "outputs": [],
   "source": [
    "wl=[]\n",
    "for i in dlpctList:\n",
    "    wl.append(sum(nx))"
   ]
  },
  {
   "cell_type": "code",
   "execution_count": 369,
   "id": "cardiac-albuquerque",
   "metadata": {},
   "outputs": [
    {
     "data": {
      "text/plain": [
       "[<matplotlib.lines.Line2D at 0x77fe99342dc0>]"
      ]
     },
     "execution_count": 369,
     "metadata": {},
     "output_type": "execute_result"
    },
    {
     "data": {
      "text/plain": [
       "<Figure size 432x288 with 0 Axes>"
      ]
     },
     "metadata": {},
     "output_type": "display_data"
    },
    {
     "data": {
      "image/png": "[encoded data removed]",
      "text/plain": [
       "<Figure size 720x432 with 1 Axes>"
      ]
     },
     "metadata": {
      "needs_background": "light"
     },
     "output_type": "display_data"
    }
   ],
   "source": [
    "mu = round(statistics.mean(dlpctList),2) # mean of distribution\n",
    "sigma = round(statistics.pstdev(dlpctList),2) # standard deviation of distribution\n",
    "\n",
    "nx, xbins, ptchs = plt.hist(dlpctList,bins='auto',density=True)\n",
    "plt.clf() # Get rid of this histogram since not the one we want.\n",
    "wl=[]\n",
    "for i in dlpctList:\n",
    "    wl.append(sum(nx))\n",
    "nx, xbins, ptchs = plt.hist(dlpctList,2*len((set(dlpctList))),weights=wl,density=True)    \n",
    "plt.clf() # Get rid of this histogram since not the one we want.\n",
    "\n",
    "\n",
    "nx_frac = nx/float(sum(nx)) # Each bin divided by total number of objects.\n",
    "width = xbins[1] - xbins[0] # Width of each bin.\n",
    "x = np.ravel(list(zip(xbins[:-1], xbins[:-1]+width)))\n",
    "y = np.ravel(list(zip(nx_frac,nx_frac)))\n",
    "fig, ax = plt.subplots(figsize=(10, 6))\n",
    "ax.plot(x,y)"
   ]
  },
  {
   "cell_type": "code",
   "execution_count": 370,
   "id": "regular-battery",
   "metadata": {},
   "outputs": [
    {
     "data": {
      "text/plain": [
       "105.35714285714307"
      ]
     },
     "execution_count": 370,
     "metadata": {},
     "output_type": "execute_result"
    }
   ],
   "source": [
    "sum(nx)"
   ]
  },
  {
   "cell_type": "code",
   "execution_count": 372,
   "id": "conceptual-liverpool",
   "metadata": {},
   "outputs": [
    {
     "data": {
      "text/plain": [
       "array([-55.        , -53.22580645, -51.4516129 , -49.67741935,\n",
       "       -47.90322581, -46.12903226, -44.35483871, -42.58064516,\n",
       "       -40.80645161, -39.03225806, -37.25806452, -35.48387097,\n",
       "       -33.70967742, -31.93548387, -30.16129032, -28.38709677,\n",
       "       -26.61290323, -24.83870968, -23.06451613, -21.29032258,\n",
       "       -19.51612903, -17.74193548, -15.96774194, -14.19354839,\n",
       "       -12.41935484, -10.64516129,  -8.87096774,  -7.09677419,\n",
       "        -5.32258065,  -3.5483871 ,  -1.77419355,   0.        ,\n",
       "         1.77419355,   3.5483871 ,   5.32258065,   7.09677419,\n",
       "         8.87096774,  10.64516129,  12.41935484,  14.19354839,\n",
       "        15.96774194,  17.74193548,  19.51612903,  21.29032258,\n",
       "        23.06451613,  24.83870968,  26.61290323,  28.38709677,\n",
       "        30.16129032,  31.93548387,  33.70967742,  35.48387097,\n",
       "        37.25806452,  39.03225806,  40.80645161,  42.58064516,\n",
       "        44.35483871,  46.12903226,  47.90322581,  49.67741935,\n",
       "        51.4516129 ,  53.22580645,  55.        ])"
      ]
     },
     "execution_count": 372,
     "metadata": {},
     "output_type": "execute_result"
    }
   ],
   "source": [
    "bins"
   ]
  },
  {
   "cell_type": "code",
   "execution_count": 371,
   "id": "wireless-reynolds",
   "metadata": {},
   "outputs": [
    {
     "data": {
      "text/plain": [
       "array([ 0.07451   ,  0.        ,  0.        ,  0.        ,  0.        ,\n",
       "        0.        ,  0.        ,  0.        ,  0.        ,  0.        ,\n",
       "        0.        ,  0.07451   ,  0.07451   ,  0.        ,  0.        ,\n",
       "        0.        ,  0.07451   ,  0.        ,  0.        ,  0.        ,\n",
       "        0.22353001,  0.        ,  0.07451   ,  0.07451   ,  0.22353001,\n",
       "        0.14902   ,  0.22353001,  0.        ,  0.74510002,  0.        ,\n",
       "        0.44706001,  0.        ,  1.34118004,  0.        ,  0.81961002,\n",
       "        0.59608002,  0.59608002,  0.37255001,  1.86275005,  0.        ,\n",
       "        0.        ,  1.34118004,  0.44706001,  1.71373005,  2.38432006,\n",
       "        0.67059002,  3.7255001 ,  0.        ,  3.7255001 ,  6.25884017,\n",
       "        0.        ,  0.        ,  7.07845019,  7.4510002 ,  0.        ,\n",
       "        0.        , 19.44711053,  0.        ,  0.        ,  0.        ,\n",
       "        7.4510002 ,  7.4510002 ,  0.        ,  0.        ,  5.88629016,\n",
       "        4.24707012,  0.        ,  2.23530006,  0.59608002,  3.12942008,\n",
       "        2.08628006,  0.81961002,  1.41569004,  0.        ,  1.86275005,\n",
       "        0.22353001,  1.04314003,  1.19216003,  0.        ,  0.22353001,\n",
       "        0.        ,  1.04314003,  0.        ,  0.37255001,  0.        ,\n",
       "        0.59608002,  0.        ,  0.22353001,  0.14902   ,  0.        ,\n",
       "        0.14902   ,  0.07451   ,  0.        ,  0.07451   ,  0.        ,\n",
       "        0.07451   ,  0.07451   ,  0.07451   ,  0.        ,  0.07451   ,\n",
       "        0.        ,  0.        ,  0.        ,  0.        ,  0.        ,\n",
       "        0.07451   ,  0.        ,  0.        ,  0.        ,  0.07451   ,\n",
       "        0.        ,  0.        ,  0.        ,  0.        ,  0.        ,\n",
       "        0.        ,  0.        ,  0.07451   ])"
      ]
     },
     "execution_count": 371,
     "metadata": {},
     "output_type": "execute_result"
    }
   ],
   "source": [
    "nx"
   ]
  },
  {
   "cell_type": "code",
   "execution_count": 234,
   "id": "closed-dialogue",
   "metadata": {},
   "outputs": [
    {
     "data": {
      "text/plain": [
       "array([0.01639344, 0.        , 0.        , 0.        , 0.        ,\n",
       "       0.01639344, 0.01639344, 0.        , 0.01639344, 0.        ,\n",
       "       0.04918033, 0.03278689, 0.08196721, 0.04918033, 0.16393443,\n",
       "       0.09836066, 0.29508197, 0.09836066, 0.3442623 , 0.08196721,\n",
       "       0.40983607, 0.39344262, 0.54098361, 1.32786885, 0.21311475,\n",
       "       0.7704918 , 1.21311475, 3.19672131, 0.        , 4.27868852,\n",
       "       0.        , 3.27868852, 1.09836066, 1.13114754, 0.62295082,\n",
       "       0.52459016, 0.62295082, 0.49180328, 0.45901639, 0.2295082 ,\n",
       "       0.31147541, 0.        , 0.2295082 , 0.21311475, 0.03278689,\n",
       "       0.01639344, 0.03278689, 0.04918033, 0.01639344, 0.03278689,\n",
       "       0.        , 0.03278689, 0.        , 0.        , 0.01639344,\n",
       "       0.        , 0.        , 0.01639344, 0.        , 0.        ,\n",
       "       0.01639344])"
      ]
     },
     "execution_count": 234,
     "metadata": {},
     "output_type": "execute_result"
    }
   ],
   "source": [
    "nx_frac"
   ]
  },
  {
   "cell_type": "code",
   "execution_count": 235,
   "id": "threatened-hartford",
   "metadata": {},
   "outputs": [
    {
     "data": {
      "text/plain": [
       "array([  1.,   0.,   0.,   0.,   0.,   1.,   1.,   0.,   1.,   0.,   3.,\n",
       "         2.,   5.,   3.,  10.,   6.,  18.,   6.,  21.,   5.,  25.,  24.,\n",
       "        33.,  81.,  13.,  47.,  74., 195.,   0., 261.,   0., 200.,  67.,\n",
       "        69.,  38.,  32.,  38.,  30.,  28.,  14.,  19.,   0.,  14.,  13.,\n",
       "         2.,   1.,   2.,   3.,   1.,   2.,   0.,   2.,   0.,   0.,   1.,\n",
       "         0.,   0.,   1.,   0.,   0.,   1.])"
      ]
     },
     "execution_count": 235,
     "metadata": {},
     "output_type": "execute_result"
    }
   ],
   "source": [
    "nx"
   ]
  },
  {
   "cell_type": "code",
   "execution_count": 207,
   "id": "numeric-bracelet",
   "metadata": {},
   "outputs": [
    {
     "data": {
      "text/plain": [
       "array([-53., -52., -52., -51., -51., -50., -50., -49., -49., -48., -48.,\n",
       "       -47., -47., -46., -46., -45., -45., -44., -44., -43., -43., -42.,\n",
       "       -42., -41., -41., -40., -40., -39., -39., -38., -38., -37., -37.,\n",
       "       -36., -36., -35., -35., -34., -34., -33., -33., -32., -32., -31.,\n",
       "       -31., -30., -30., -29., -29., -28., -28., -27., -27., -26., -26.,\n",
       "       -25., -25., -24., -24., -23., -23., -22., -22., -21., -21., -20.,\n",
       "       -20., -19., -19., -18., -18., -17., -17., -16., -16., -15., -15.,\n",
       "       -14., -14., -13., -13., -12., -12., -11., -11., -10., -10.,  -9.,\n",
       "        -9.,  -8.,  -8.,  -7.,  -7.,  -6.,  -6.,  -5.,  -5.,  -4.,  -4.,\n",
       "        -3.,  -3.,  -2.,  -2.,  -1.,  -1.,   0.,   0.,   1.,   1.,   2.,\n",
       "         2.,   3.,   3.,   4.,   4.,   5.,   5.,   6.,   6.,   7.,   7.,\n",
       "         8.,   8.,   9.,   9.,  10.,  10.,  11.,  11.,  12.,  12.,  13.,\n",
       "        13.,  14.,  14.,  15.,  15.,  16.,  16.,  17.,  17.,  18.,  18.,\n",
       "        19.,  19.,  20.,  20.,  21.,  21.,  22.,  22.,  23.,  23.,  24.,\n",
       "        24.,  25.,  25.,  26.,  26.,  27.,  27.,  28.,  28.,  29.,  29.,\n",
       "        30.,  30.,  31.,  31.,  32.,  32.,  33.,  33.,  34.,  34.,  35.,\n",
       "        35.,  36.,  36.,  37.,  37.,  38.,  38.,  39.,  39.,  40.,  40.,\n",
       "        41.,  41.,  42.,  42.,  43.,  43.,  44.,  44.,  45.,  45.,  46.,\n",
       "        46.,  47.,  47.,  48.,  48.,  49.,  49.,  50.,  50.,  51.,  51.,\n",
       "        52.,  52.,  53.,  53.,  54.,  54.,  55.,  55.,  56.,  56.,  57.])"
      ]
     },
     "execution_count": 207,
     "metadata": {},
     "output_type": "execute_result"
    }
   ],
   "source": [
    "x"
   ]
  },
  {
   "cell_type": "code",
   "execution_count": null,
   "id": "confused-pilot",
   "metadata": {},
   "outputs": [],
   "source": [
    "pd.DataFrame(list(zip(dptx,dpty,dlpt)),columns=['dlptt','freq','pct'])"
   ]
  },
  {
   "cell_type": "code",
   "execution_count": 165,
   "id": "potential-sodium",
   "metadata": {},
   "outputs": [
    {
     "data": {
      "text/html": [
       "<div>\n",
       "<style scoped>\n",
       "    .dataframe tbody tr th:only-of-type {\n",
       "        vertical-align: middle;\n",
       "    }\n",
       "\n",
       "    .dataframe tbody tr th {\n",
       "        vertical-align: top;\n",
       "    }\n",
       "\n",
       "    .dataframe thead th {\n",
       "        text-align: right;\n",
       "    }\n",
       "</style>\n",
       "<table border=\"1\" class=\"dataframe\">\n",
       "  <thead>\n",
       "    <tr style=\"text-align: right;\">\n",
       "      <th></th>\n",
       "      <th>dlpct</th>\n",
       "      <th>freq</th>\n",
       "      <th>pct</th>\n",
       "    </tr>\n",
       "  </thead>\n",
       "  <tbody>\n",
       "    <tr>\n",
       "      <th>29</th>\n",
       "      <td>0</td>\n",
       "      <td>261</td>\n",
       "      <td>18.46</td>\n",
       "    </tr>\n",
       "  </tbody>\n",
       "</table>\n",
       "</div>"
      ],
      "text/plain": [
       "    dlpct  freq    pct\n",
       "29      0   261  18.46"
      ]
     },
     "execution_count": 165,
     "metadata": {},
     "output_type": "execute_result"
    }
   ],
   "source": [
    "dfpct = pd.DataFrame(list(zip(dlpx,dlpy,dlpp)),columns=['dlpct','freq','pct'])\n",
    "dfpct[dfpct['dlpct'] == 0]"
   ]
  },
  {
   "cell_type": "code",
   "execution_count": 197,
   "id": "effective-philippines",
   "metadata": {},
   "outputs": [
    {
     "name": "stdout",
     "output_type": "stream",
     "text": [
      " dlpct  freq    pct\n",
      "   -53     1   0.07\n",
      "   -43     1   0.07\n",
      "   -42     1   0.07\n",
      "   -38     1   0.07\n",
      "   -34     3   0.21\n",
      "   -33     1   0.07\n",
      "   -32     1   0.07\n",
      "   -30     5   0.35\n",
      "   -29     2   0.14\n",
      "   -28     1   0.07\n",
      "   -26    10   0.71\n",
      "   -25     6   0.42\n",
      "   -23    18   1.27\n",
      "   -21     6   0.42\n",
      "   -20    13   0.92\n",
      "   -19     8   0.57\n",
      "   -17     5   0.35\n",
      "   -16    25   1.77\n",
      "   -15    18   1.27\n",
      "   -14     6   0.42\n",
      "   -13    23   1.63\n",
      "   -12    10   0.71\n",
      "   -11    22   1.56\n",
      "   -10    59   4.17\n",
      "    -8    13   0.92\n",
      "    -7    47   3.32\n",
      "    -6    74   5.23\n",
      "    -4    25   1.77\n",
      "    -3   170  12.02\n",
      "     0   261  18.46\n",
      "     3   175  12.38\n",
      "     4    25   1.77\n",
      "     6    67   4.74\n",
      "     7    49   3.47\n",
      "     8    20   1.41\n",
      "    10    38   2.69\n",
      "    11    32   2.26\n",
      "    12    10   0.71\n",
      "    13    28   1.98\n",
      "    14    11   0.78\n",
      "    15    19   1.34\n",
      "    16    25   1.77\n",
      "    17     3   0.21\n",
      "    19    14   0.99\n",
      "    20    19   1.34\n",
      "    23    14   0.99\n",
      "    25     5   0.35\n",
      "    26     8   0.57\n",
      "    28     2   0.14\n",
      "    29     1   0.07\n",
      "    30     2   0.14\n",
      "    32     2   0.14\n",
      "    33     1   0.07\n",
      "    34     1   0.07\n",
      "    36     1   0.07\n",
      "    37     1   0.07\n",
      "    39     1   0.07\n",
      "    40     1   0.07\n",
      "    46     1   0.07\n",
      "    50     1   0.07\n",
      "    57     1   0.07\n"
     ]
    }
   ],
   "source": [
    "print(dfpct.to_string(index=False))"
   ]
  },
  {
   "cell_type": "code",
   "execution_count": 208,
   "id": "sixth-content",
   "metadata": {},
   "outputs": [
    {
     "data": {
      "text/html": [
       "<div>\n",
       "<style scoped>\n",
       "    .dataframe tbody tr th:only-of-type {\n",
       "        vertical-align: middle;\n",
       "    }\n",
       "\n",
       "    .dataframe tbody tr th {\n",
       "        vertical-align: top;\n",
       "    }\n",
       "\n",
       "    .dataframe thead th {\n",
       "        text-align: right;\n",
       "    }\n",
       "</style>\n",
       "<table border=\"1\" class=\"dataframe\">\n",
       "  <thead>\n",
       "    <tr style=\"text-align: right;\">\n",
       "      <th></th>\n",
       "      <th>delta</th>\n",
       "      <th>freq</th>\n",
       "      <th>pct</th>\n",
       "    </tr>\n",
       "  </thead>\n",
       "  <tbody>\n",
       "    <tr>\n",
       "      <th>0</th>\n",
       "      <td>-14</td>\n",
       "      <td>1</td>\n",
       "      <td>0.07</td>\n",
       "    </tr>\n",
       "    <tr>\n",
       "      <th>1</th>\n",
       "      <td>-13</td>\n",
       "      <td>1</td>\n",
       "      <td>0.07</td>\n",
       "    </tr>\n",
       "    <tr>\n",
       "      <th>2</th>\n",
       "      <td>-11</td>\n",
       "      <td>1</td>\n",
       "      <td>0.07</td>\n",
       "    </tr>\n",
       "    <tr>\n",
       "      <th>3</th>\n",
       "      <td>-10</td>\n",
       "      <td>1</td>\n",
       "      <td>0.07</td>\n",
       "    </tr>\n",
       "    <tr>\n",
       "      <th>4</th>\n",
       "      <td>-9</td>\n",
       "      <td>6</td>\n",
       "      <td>0.42</td>\n",
       "    </tr>\n",
       "    <tr>\n",
       "      <th>5</th>\n",
       "      <td>-8</td>\n",
       "      <td>7</td>\n",
       "      <td>0.50</td>\n",
       "    </tr>\n",
       "    <tr>\n",
       "      <th>6</th>\n",
       "      <td>-7</td>\n",
       "      <td>24</td>\n",
       "      <td>1.70</td>\n",
       "    </tr>\n",
       "    <tr>\n",
       "      <th>7</th>\n",
       "      <td>-6</td>\n",
       "      <td>24</td>\n",
       "      <td>1.70</td>\n",
       "    </tr>\n",
       "    <tr>\n",
       "      <th>8</th>\n",
       "      <td>-5</td>\n",
       "      <td>38</td>\n",
       "      <td>2.69</td>\n",
       "    </tr>\n",
       "    <tr>\n",
       "      <th>9</th>\n",
       "      <td>-4</td>\n",
       "      <td>52</td>\n",
       "      <td>3.68</td>\n",
       "    </tr>\n",
       "    <tr>\n",
       "      <th>10</th>\n",
       "      <td>-3</td>\n",
       "      <td>91</td>\n",
       "      <td>6.44</td>\n",
       "    </tr>\n",
       "    <tr>\n",
       "      <th>11</th>\n",
       "      <td>-2</td>\n",
       "      <td>134</td>\n",
       "      <td>9.48</td>\n",
       "    </tr>\n",
       "    <tr>\n",
       "      <th>12</th>\n",
       "      <td>-1</td>\n",
       "      <td>195</td>\n",
       "      <td>13.79</td>\n",
       "    </tr>\n",
       "    <tr>\n",
       "      <th>13</th>\n",
       "      <td>0</td>\n",
       "      <td>261</td>\n",
       "      <td>18.46</td>\n",
       "    </tr>\n",
       "    <tr>\n",
       "      <th>14</th>\n",
       "      <td>1</td>\n",
       "      <td>200</td>\n",
       "      <td>14.14</td>\n",
       "    </tr>\n",
       "    <tr>\n",
       "      <th>15</th>\n",
       "      <td>2</td>\n",
       "      <td>136</td>\n",
       "      <td>9.62</td>\n",
       "    </tr>\n",
       "    <tr>\n",
       "      <th>16</th>\n",
       "      <td>3</td>\n",
       "      <td>80</td>\n",
       "      <td>5.66</td>\n",
       "    </tr>\n",
       "    <tr>\n",
       "      <th>17</th>\n",
       "      <td>4</td>\n",
       "      <td>65</td>\n",
       "      <td>4.60</td>\n",
       "    </tr>\n",
       "    <tr>\n",
       "      <th>18</th>\n",
       "      <td>5</td>\n",
       "      <td>38</td>\n",
       "      <td>2.69</td>\n",
       "    </tr>\n",
       "    <tr>\n",
       "      <th>19</th>\n",
       "      <td>6</td>\n",
       "      <td>25</td>\n",
       "      <td>1.77</td>\n",
       "    </tr>\n",
       "    <tr>\n",
       "      <th>20</th>\n",
       "      <td>7</td>\n",
       "      <td>14</td>\n",
       "      <td>0.99</td>\n",
       "    </tr>\n",
       "    <tr>\n",
       "      <th>21</th>\n",
       "      <td>8</td>\n",
       "      <td>7</td>\n",
       "      <td>0.50</td>\n",
       "    </tr>\n",
       "    <tr>\n",
       "      <th>22</th>\n",
       "      <td>9</td>\n",
       "      <td>6</td>\n",
       "      <td>0.42</td>\n",
       "    </tr>\n",
       "    <tr>\n",
       "      <th>23</th>\n",
       "      <td>10</td>\n",
       "      <td>1</td>\n",
       "      <td>0.07</td>\n",
       "    </tr>\n",
       "    <tr>\n",
       "      <th>24</th>\n",
       "      <td>11</td>\n",
       "      <td>2</td>\n",
       "      <td>0.14</td>\n",
       "    </tr>\n",
       "    <tr>\n",
       "      <th>25</th>\n",
       "      <td>12</td>\n",
       "      <td>2</td>\n",
       "      <td>0.14</td>\n",
       "    </tr>\n",
       "    <tr>\n",
       "      <th>26</th>\n",
       "      <td>13</td>\n",
       "      <td>1</td>\n",
       "      <td>0.07</td>\n",
       "    </tr>\n",
       "    <tr>\n",
       "      <th>27</th>\n",
       "      <td>15</td>\n",
       "      <td>1</td>\n",
       "      <td>0.07</td>\n",
       "    </tr>\n",
       "  </tbody>\n",
       "</table>\n",
       "</div>"
      ],
      "text/plain": [
       "    delta  freq    pct\n",
       "0     -14     1   0.07\n",
       "1     -13     1   0.07\n",
       "2     -11     1   0.07\n",
       "3     -10     1   0.07\n",
       "4      -9     6   0.42\n",
       "5      -8     7   0.50\n",
       "6      -7    24   1.70\n",
       "7      -6    24   1.70\n",
       "8      -5    38   2.69\n",
       "9      -4    52   3.68\n",
       "10     -3    91   6.44\n",
       "11     -2   134   9.48\n",
       "12     -1   195  13.79\n",
       "13      0   261  18.46\n",
       "14      1   200  14.14\n",
       "15      2   136   9.62\n",
       "16      3    80   5.66\n",
       "17      4    65   4.60\n",
       "18      5    38   2.69\n",
       "19      6    25   1.77\n",
       "20      7    14   0.99\n",
       "21      8     7   0.50\n",
       "22      9     6   0.42\n",
       "23     10     1   0.07\n",
       "24     11     2   0.14\n",
       "25     12     2   0.14\n",
       "26     13     1   0.07\n",
       "27     15     1   0.07"
      ]
     },
     "execution_count": 208,
     "metadata": {},
     "output_type": "execute_result"
    }
   ],
   "source": [
    "pd.DataFrame(list(zip(delx,dely,delp)),columns=['delta','freq','pct'])"
   ]
  }
 ],
 "metadata": {
  "kernelspec": {
   "display_name": "Python 3",
   "language": "python",
   "name": "python3"
  },
  "language_info": {
   "codemirror_mode": {
    "name": "ipython",
    "version": 3
   },
   "file_extension": ".py",
   "mimetype": "text/x-python",
   "name": "python",
   "nbconvert_exporter": "python",
   "pygments_lexer": "ipython3",
   "version": "3.8.3"
  }
 },
 "nbformat": 4,
 "nbformat_minor": 5
}
