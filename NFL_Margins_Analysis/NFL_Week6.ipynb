{
 "cells": [
  {
   "cell_type": "code",
   "execution_count": 1,
   "metadata": {},
   "outputs": [],
   "source": [
    "import pandas as pd"
   ]
  },
  {
   "cell_type": "code",
   "execution_count": 2,
   "metadata": {},
   "outputs": [],
   "source": [
    "from matplotlib import pyplot as plt"
   ]
  },
  {
   "cell_type": "code",
   "execution_count": 3,
   "metadata": {},
   "outputs": [],
   "source": [
    "import itertools  "
   ]
  },
  {
   "cell_type": "code",
   "execution_count": 4,
   "metadata": {},
   "outputs": [
    {
     "ename": "KeyError",
     "evalue": "\"['rowid' 'matchupid'] not found in axis\"",
     "output_type": "error",
     "traceback": [
      "\u001b[0;31m---------------------------------------------------------------------------\u001b[0m",
      "\u001b[0;31mKeyError\u001b[0m                                  Traceback (most recent call last)",
      "\u001b[0;32m<ipython-input-4-932dd08ebf76>\u001b[0m in \u001b[0;36m<module>\u001b[0;34m\u001b[0m\n\u001b[1;32m      1\u001b[0m \u001b[0msample_data\u001b[0m \u001b[0;34m=\u001b[0m \u001b[0mpd\u001b[0m\u001b[0;34m.\u001b[0m\u001b[0mread_csv\u001b[0m\u001b[0;34m(\u001b[0m\u001b[0;34m'sample_data_wk6.csv'\u001b[0m\u001b[0;34m)\u001b[0m\u001b[0;34m\u001b[0m\u001b[0;34m\u001b[0m\u001b[0m\n\u001b[0;32m----> 2\u001b[0;31m \u001b[0msample_data\u001b[0m \u001b[0;34m=\u001b[0m \u001b[0msample_data\u001b[0m\u001b[0;34m.\u001b[0m\u001b[0mdrop\u001b[0m\u001b[0;34m(\u001b[0m\u001b[0mcolumns\u001b[0m\u001b[0;34m=\u001b[0m\u001b[0;34m[\u001b[0m\u001b[0;34m'rowid'\u001b[0m\u001b[0;34m,\u001b[0m \u001b[0;34m'matchupid'\u001b[0m\u001b[0;34m]\u001b[0m\u001b[0;34m)\u001b[0m\u001b[0;34m\u001b[0m\u001b[0;34m\u001b[0m\u001b[0m\n\u001b[0m\u001b[1;32m      3\u001b[0m \u001b[0msample_data\u001b[0m\u001b[0;34m.\u001b[0m\u001b[0mto_csv\u001b[0m\u001b[0;34m(\u001b[0m\u001b[0;34m'sample_data_wk6.csv'\u001b[0m\u001b[0;34m,\u001b[0m\u001b[0mindex\u001b[0m\u001b[0;34m=\u001b[0m\u001b[0;32mFalse\u001b[0m\u001b[0;34m)\u001b[0m\u001b[0;34m\u001b[0m\u001b[0;34m\u001b[0m\u001b[0m\n",
      "\u001b[0;32m~/v3env/testenv/lib/python3.8/site-packages/pandas/core/frame.py\u001b[0m in \u001b[0;36mdrop\u001b[0;34m(self, labels, axis, index, columns, level, inplace, errors)\u001b[0m\n\u001b[1;32m   4161\u001b[0m                 \u001b[0mweight\u001b[0m  \u001b[0;36m1.0\u001b[0m     \u001b[0;36m0.8\u001b[0m\u001b[0;34m\u001b[0m\u001b[0;34m\u001b[0m\u001b[0m\n\u001b[1;32m   4162\u001b[0m         \"\"\"\n\u001b[0;32m-> 4163\u001b[0;31m         return super().drop(\n\u001b[0m\u001b[1;32m   4164\u001b[0m             \u001b[0mlabels\u001b[0m\u001b[0;34m=\u001b[0m\u001b[0mlabels\u001b[0m\u001b[0;34m,\u001b[0m\u001b[0;34m\u001b[0m\u001b[0;34m\u001b[0m\u001b[0m\n\u001b[1;32m   4165\u001b[0m             \u001b[0maxis\u001b[0m\u001b[0;34m=\u001b[0m\u001b[0maxis\u001b[0m\u001b[0;34m,\u001b[0m\u001b[0;34m\u001b[0m\u001b[0;34m\u001b[0m\u001b[0m\n",
      "\u001b[0;32m~/v3env/testenv/lib/python3.8/site-packages/pandas/core/generic.py\u001b[0m in \u001b[0;36mdrop\u001b[0;34m(self, labels, axis, index, columns, level, inplace, errors)\u001b[0m\n\u001b[1;32m   3885\u001b[0m         \u001b[0;32mfor\u001b[0m \u001b[0maxis\u001b[0m\u001b[0;34m,\u001b[0m \u001b[0mlabels\u001b[0m \u001b[0;32min\u001b[0m \u001b[0maxes\u001b[0m\u001b[0;34m.\u001b[0m\u001b[0mitems\u001b[0m\u001b[0;34m(\u001b[0m\u001b[0;34m)\u001b[0m\u001b[0;34m:\u001b[0m\u001b[0;34m\u001b[0m\u001b[0;34m\u001b[0m\u001b[0m\n\u001b[1;32m   3886\u001b[0m             \u001b[0;32mif\u001b[0m \u001b[0mlabels\u001b[0m \u001b[0;32mis\u001b[0m \u001b[0;32mnot\u001b[0m \u001b[0;32mNone\u001b[0m\u001b[0;34m:\u001b[0m\u001b[0;34m\u001b[0m\u001b[0;34m\u001b[0m\u001b[0m\n\u001b[0;32m-> 3887\u001b[0;31m                 \u001b[0mobj\u001b[0m \u001b[0;34m=\u001b[0m \u001b[0mobj\u001b[0m\u001b[0;34m.\u001b[0m\u001b[0m_drop_axis\u001b[0m\u001b[0;34m(\u001b[0m\u001b[0mlabels\u001b[0m\u001b[0;34m,\u001b[0m \u001b[0maxis\u001b[0m\u001b[0;34m,\u001b[0m \u001b[0mlevel\u001b[0m\u001b[0;34m=\u001b[0m\u001b[0mlevel\u001b[0m\u001b[0;34m,\u001b[0m \u001b[0merrors\u001b[0m\u001b[0;34m=\u001b[0m\u001b[0merrors\u001b[0m\u001b[0;34m)\u001b[0m\u001b[0;34m\u001b[0m\u001b[0;34m\u001b[0m\u001b[0m\n\u001b[0m\u001b[1;32m   3888\u001b[0m \u001b[0;34m\u001b[0m\u001b[0m\n\u001b[1;32m   3889\u001b[0m         \u001b[0;32mif\u001b[0m \u001b[0minplace\u001b[0m\u001b[0;34m:\u001b[0m\u001b[0;34m\u001b[0m\u001b[0;34m\u001b[0m\u001b[0m\n",
      "\u001b[0;32m~/v3env/testenv/lib/python3.8/site-packages/pandas/core/generic.py\u001b[0m in \u001b[0;36m_drop_axis\u001b[0;34m(self, labels, axis, level, errors)\u001b[0m\n\u001b[1;32m   3919\u001b[0m                 \u001b[0mnew_axis\u001b[0m \u001b[0;34m=\u001b[0m \u001b[0maxis\u001b[0m\u001b[0;34m.\u001b[0m\u001b[0mdrop\u001b[0m\u001b[0;34m(\u001b[0m\u001b[0mlabels\u001b[0m\u001b[0;34m,\u001b[0m \u001b[0mlevel\u001b[0m\u001b[0;34m=\u001b[0m\u001b[0mlevel\u001b[0m\u001b[0;34m,\u001b[0m \u001b[0merrors\u001b[0m\u001b[0;34m=\u001b[0m\u001b[0merrors\u001b[0m\u001b[0;34m)\u001b[0m\u001b[0;34m\u001b[0m\u001b[0;34m\u001b[0m\u001b[0m\n\u001b[1;32m   3920\u001b[0m             \u001b[0;32melse\u001b[0m\u001b[0;34m:\u001b[0m\u001b[0;34m\u001b[0m\u001b[0;34m\u001b[0m\u001b[0m\n\u001b[0;32m-> 3921\u001b[0;31m                 \u001b[0mnew_axis\u001b[0m \u001b[0;34m=\u001b[0m \u001b[0maxis\u001b[0m\u001b[0;34m.\u001b[0m\u001b[0mdrop\u001b[0m\u001b[0;34m(\u001b[0m\u001b[0mlabels\u001b[0m\u001b[0;34m,\u001b[0m \u001b[0merrors\u001b[0m\u001b[0;34m=\u001b[0m\u001b[0merrors\u001b[0m\u001b[0;34m)\u001b[0m\u001b[0;34m\u001b[0m\u001b[0;34m\u001b[0m\u001b[0m\n\u001b[0m\u001b[1;32m   3922\u001b[0m             \u001b[0mresult\u001b[0m \u001b[0;34m=\u001b[0m \u001b[0mself\u001b[0m\u001b[0;34m.\u001b[0m\u001b[0mreindex\u001b[0m\u001b[0;34m(\u001b[0m\u001b[0;34m**\u001b[0m\u001b[0;34m{\u001b[0m\u001b[0maxis_name\u001b[0m\u001b[0;34m:\u001b[0m \u001b[0mnew_axis\u001b[0m\u001b[0;34m}\u001b[0m\u001b[0;34m)\u001b[0m\u001b[0;34m\u001b[0m\u001b[0;34m\u001b[0m\u001b[0m\n\u001b[1;32m   3923\u001b[0m \u001b[0;34m\u001b[0m\u001b[0m\n",
      "\u001b[0;32m~/v3env/testenv/lib/python3.8/site-packages/pandas/core/indexes/base.py\u001b[0m in \u001b[0;36mdrop\u001b[0;34m(self, labels, errors)\u001b[0m\n\u001b[1;32m   5280\u001b[0m         \u001b[0;32mif\u001b[0m \u001b[0mmask\u001b[0m\u001b[0;34m.\u001b[0m\u001b[0many\u001b[0m\u001b[0;34m(\u001b[0m\u001b[0;34m)\u001b[0m\u001b[0;34m:\u001b[0m\u001b[0;34m\u001b[0m\u001b[0;34m\u001b[0m\u001b[0m\n\u001b[1;32m   5281\u001b[0m             \u001b[0;32mif\u001b[0m \u001b[0merrors\u001b[0m \u001b[0;34m!=\u001b[0m \u001b[0;34m\"ignore\"\u001b[0m\u001b[0;34m:\u001b[0m\u001b[0;34m\u001b[0m\u001b[0;34m\u001b[0m\u001b[0m\n\u001b[0;32m-> 5282\u001b[0;31m                 \u001b[0;32mraise\u001b[0m \u001b[0mKeyError\u001b[0m\u001b[0;34m(\u001b[0m\u001b[0;34mf\"{labels[mask]} not found in axis\"\u001b[0m\u001b[0;34m)\u001b[0m\u001b[0;34m\u001b[0m\u001b[0;34m\u001b[0m\u001b[0m\n\u001b[0m\u001b[1;32m   5283\u001b[0m             \u001b[0mindexer\u001b[0m \u001b[0;34m=\u001b[0m \u001b[0mindexer\u001b[0m\u001b[0;34m[\u001b[0m\u001b[0;34m~\u001b[0m\u001b[0mmask\u001b[0m\u001b[0;34m]\u001b[0m\u001b[0;34m\u001b[0m\u001b[0;34m\u001b[0m\u001b[0m\n\u001b[1;32m   5284\u001b[0m         \u001b[0;32mreturn\u001b[0m \u001b[0mself\u001b[0m\u001b[0;34m.\u001b[0m\u001b[0mdelete\u001b[0m\u001b[0;34m(\u001b[0m\u001b[0mindexer\u001b[0m\u001b[0;34m)\u001b[0m\u001b[0;34m\u001b[0m\u001b[0;34m\u001b[0m\u001b[0m\n",
      "\u001b[0;31mKeyError\u001b[0m: \"['rowid' 'matchupid'] not found in axis\""
     ]
    }
   ],
   "source": [
    "sample_data = pd.read_csv('sample_data_wk6.csv')\n",
    "sample_data = sample_data.drop(columns=['rowid', 'matchupid'])\n",
    "sample_data.to_csv('sample_data_wk6.csv',index=False)"
   ]
  },
  {
   "cell_type": "code",
   "execution_count": null,
   "metadata": {},
   "outputs": [],
   "source": [
    "real_data = pd.read_csv('real_data_raw_wk6.csv')\n",
    "real_data['margin'] = real_data['homescore']-real_data['awayscore']\n",
    "real_data['total'] = real_data['homescore']+real_data['awayscore']\n",
    "\n",
    "real_data.loc[real_data['homescore'] >= real_data['awayscore'], 'winnerhomeoraway'] = 'home' \n",
    "real_data.loc[real_data['homescore'] < real_data['awayscore'], 'winnerhomeoraway'] = 'away' \n",
    "\n",
    "real_data.loc[real_data['winnerhomeoraway'] == 'home', 'winnerteam'] = real_data.loc[real_data['winnerhomeoraway'] == 'home'].hometeam \n",
    "real_data.loc[real_data['winnerhomeoraway'] == 'away', 'winnerteam'] = real_data.loc[real_data['winnerhomeoraway'] == 'away'].awayteam \n",
    "\n",
    "real_data = real_data.drop(columns=['rowid', 'matchupid'])\n",
    "\n",
    "real_data.to_csv('real_data_wk6.csv',index=False)"
   ]
  },
  {
   "cell_type": "code",
   "execution_count": null,
   "metadata": {
    "scrolled": true
   },
   "outputs": [],
   "source": [
    "sample_data[0:1000:15]"
   ]
  },
  {
   "cell_type": "code",
   "execution_count": null,
   "metadata": {},
   "outputs": [],
   "source": [
    "real_data"
   ]
  },
  {
   "cell_type": "code",
   "execution_count": null,
   "metadata": {},
   "outputs": [],
   "source": [
    "real_dict={}\n",
    "pred_dict={}\n",
    "diff_dict={}\n",
    "match_dict={}\n",
    "\n",
    "num_games = len(real_data)\n",
    "\n",
    "for i,team in enumerate(zip(itertools.count(step=2),real_data.hometeam,real_data.awayteam)):\n",
    "    home_team = team [1]\n",
    "    away_team = team [2]\n",
    "    \n",
    "    match = home_team+'-'+away_team\n",
    "    match_dict[i] = (home_team,match)\n",
    "    match_dict[i+num_games] = (away_team,match)\n",
    "    \n",
    "    r_home_marg = int(real_data.margin[real_data.hometeam == home_team])\n",
    "    r_away_marg = -r_home_marg\n",
    "    \n",
    "    p_home_all_marg = list((sample_data[sample_data.hometeam == home_team]).margin)\n",
    "    p_home_marg = sum(p_home_all_marg)/len(p_home_all_marg)\n",
    "    p_away_marg = -p_home_marg\n",
    "    \n",
    "    d_home_marg = round(r_home_marg - p_home_marg,2)\n",
    "    d_away_marg = round(r_away_marg - p_away_marg,2)\n",
    "\n",
    "    real_dict[i] = (home_team,r_home_marg)\n",
    "    real_dict[i+num_games] = (away_team,r_away_marg)\n",
    "    \n",
    "    pred_dict[i] = (home_team,p_home_marg)\n",
    "    pred_dict[i+num_games] = (away_team,p_away_marg)\n",
    "    \n",
    "    diff_dict[i] = (home_team,d_home_marg)\n",
    "    diff_dict[i+num_games] = (away_team,d_away_marg)"
   ]
  },
  {
   "cell_type": "code",
   "execution_count": null,
   "metadata": {},
   "outputs": [],
   "source": [
    "match_dict"
   ]
  },
  {
   "cell_type": "code",
   "execution_count": null,
   "metadata": {},
   "outputs": [],
   "source": [
    "real_dict"
   ]
  },
  {
   "cell_type": "code",
   "execution_count": null,
   "metadata": {},
   "outputs": [],
   "source": [
    "pred_dict"
   ]
  },
  {
   "cell_type": "code",
   "execution_count": null,
   "metadata": {},
   "outputs": [],
   "source": [
    "diff_dict"
   ]
  },
  {
   "cell_type": "code",
   "execution_count": null,
   "metadata": {},
   "outputs": [],
   "source": [
    "df_real = pd.DataFrame.from_dict(real_dict, orient='index',columns = ['team','real_margin'])\n",
    "df_real = df_real.sort_values(by=['team'],ignore_index=True,ascending = False)\n",
    "\n",
    "df_pred = pd.DataFrame.from_dict(pred_dict, orient='index',columns = ['team','pred_margin'])\n",
    "df_pred = df_pred.sort_values(by=['team'],ignore_index=True,ascending = False)\n",
    "\n",
    "df_diff = pd.DataFrame.from_dict(diff_dict, orient='index',columns = ['team','diff_margin'])\n",
    "df_diff = df_diff.sort_values(by=['team'],ignore_index=True,ascending = False)\n",
    "\n",
    "df_match = pd.DataFrame.from_dict(match_dict, orient='index',columns = ['team','match'])\n",
    "df_match = df_match.sort_values(by=['team'],ignore_index=True,ascending = False)\n",
    "\n",
    "df_marg = df_real\n",
    "df_marg['pred_margin'] = df_pred['pred_margin']\n",
    "df_marg['diff_margin'] = df_diff['diff_margin']\n",
    "df_marg['match'] = df_match['match']\n",
    "\n",
    "df_marg_srt = df_marg.sort_values(by=['diff_margin'],ignore_index=True,ascending = False)\n",
    "df_marg_srt_hlf = df_marg_srt[0:int((len(df_marg_srt)/2))]\n",
    "df_marg_srt_hlf"
   ]
  },
  {
   "cell_type": "code",
   "execution_count": null,
   "metadata": {
    "scrolled": false
   },
   "outputs": [],
   "source": [
    "#This first plot shows the teams ranked from most underestimated to most overestimated after comparing the \n",
    "#average simulation point margins to the eventual real game point margins.  \n",
    "\n",
    "from matplotlib.pyplot import figure\n",
    "plt.figure(figsize = (20,8))\n",
    "plt.plot(df_marg_srt.team,df_marg_srt.diff_margin)\n",
    "plt.plot(df_marg_srt.team,df_marg_srt.real_margin,'x')\n",
    "plt.plot(df_marg_srt.team,df_marg_srt.pred_margin,'x')\n",
    "plt.plot(df_marg_srt.team, [0]*len(df_marg_srt),color='black')\n",
    "plt.legend(['diff', 'real', 'predicted'])\n",
    "plt.xticks(rotation=90)\n",
    "plt.xlabel('Team')\n",
    "plt.ylabel('Real Pnt Margin - Predicted Pnt Margin')\n",
    "plt.title('Difference in Actual vs Predicted Point Spread (NFL wk6)')\n",
    "plt.show()"
   ]
  },
  {
   "cell_type": "code",
   "execution_count": null,
   "metadata": {
    "scrolled": false
   },
   "outputs": [],
   "source": [
    "#Preceding team-level view is a bit crowded (displays a flipped mirror image, \n",
    "#considering for each team there is an opponent with equal and opposite data).  \n",
    "#So the bottom plot uses the data from only the underestimated team perspective.  This \"match-level\" view \n",
    "#does a better job emphasizing the overall margin prediction accuracy trend, but you lose the insight \n",
    "#into how individual teams performed in simulations and real-life.\n",
    "\n",
    "import matplotlib.pyplot as plt\n",
    "import numpy as np\n",
    "\n",
    "labels = df_marg_srt_hlf.match\n",
    "realb = df_marg_srt_hlf['real_margin']\n",
    "predb = df_marg_srt_hlf['pred_margin']\n",
    "diffb = df_marg_srt_hlf['diff_margin']\n",
    "\n",
    "x = np.arange(len(labels))  # the label locations\n",
    "width = 0.35  # the width of the bars\n",
    "\n",
    "fig = plt.figure(figsize = (12,18))\n",
    "ax = plt.subplot(111)\n",
    "                 \n",
    "#fig, ax = plt.subplots()\n",
    "rects1 = ax.bar(x - width/2, realb, width,color='g', label='real margin')\n",
    "rects2 = ax.bar(x + width/2, predb, width,color='b', label='pred margin')\n",
    "lined = plt.plot(x, diffb,color='r', label='diff margin')\n",
    "line0 = plt.plot(x, [0]*len(diffb),color='black')\n",
    "\n",
    "# Add some text for labels, title and custom x-axis tick labels, etc.\n",
    "ax.set_ylabel('margin')\n",
    "ax.set_title('real vs predicted margins (home-away) NFL wk6')\n",
    "plt.xticks(rotation=90)\n",
    "plt.xlabel('Match (home-away)')\n",
    "ax.set_xticks(x)\n",
    "ax.set_xticklabels(labels)\n",
    "ax.legend()\n",
    "\n",
    "\n",
    "def autolabel(rects):\n",
    "    \"\"\"Attach a text label above each bar in *rects*, displaying its height.\"\"\"\n",
    "    for rect in rects:\n",
    "        height = rect.get_height()\n",
    "          \n",
    "        ax.annotate('{}'.format(height),\n",
    "                    xy=(rect.get_x() + rect.get_width() / 2, height),\n",
    "                    xytext=(-30, 0),  # 3 points vertical offset\n",
    "                    textcoords=\"offset points\",\n",
    "                    ha='center', va='bottom',bbox=dict(boxstyle=\"round,pad=0.3\", fc=\"w\", ec=\"k\", lw=1))\n",
    "\n",
    "autolabel(rects1)\n",
    "autolabel(rects2)\n",
    "\n",
    "#fig.tight_layout()\n",
    "\n",
    "plt.show()"
   ]
  },
  {
   "cell_type": "code",
   "execution_count": null,
   "metadata": {},
   "outputs": [],
   "source": [
    "display(round(df_marg_srt_hlf['diff_margin'].mean(),2))\n",
    "display(round(df_marg_srt_hlf['diff_margin'].median(),2))"
   ]
  }
 ],
 "metadata": {
  "kernelspec": {
   "display_name": "Python 3",
   "language": "python",
   "name": "python3"
  },
  "language_info": {
   "codemirror_mode": {
    "name": "ipython",
    "version": 3
   },
   "file_extension": ".py",
   "mimetype": "text/x-python",
   "name": "python",
   "nbconvert_exporter": "python",
   "pygments_lexer": "ipython3",
   "version": "3.8.4"
  }
 },
 "nbformat": 4,
 "nbformat_minor": 2
}
